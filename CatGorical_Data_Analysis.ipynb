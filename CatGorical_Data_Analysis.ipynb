{
  "nbformat": 4,
  "nbformat_minor": 0,
  "metadata": {
    "kernelspec": {
      "name": "python3",
      "display_name": "Python 3"
    },
    "language_info": {
      "pygments_lexer": "ipython3",
      "nbconvert_exporter": "python",
      "version": "3.6.4",
      "file_extension": ".py",
      "codemirror_mode": {
        "name": "ipython",
        "version": 3
      },
      "name": "python",
      "mimetype": "text/x-python"
    },
    "colab": {
      "name": "CatGorical_Data_Analysis.ipynb",
      "provenance": [],
      "collapsed_sections": [],
      "machine_shape": "hm",
      "include_colab_link": true
    },
    "accelerator": "GPU"
  },
  "cells": [
    {
      "cell_type": "markdown",
      "metadata": {
        "id": "view-in-github",
        "colab_type": "text"
      },
      "source": [
        "<a href=\"https://colab.research.google.com/github/adarsh-meher/CatGorical_Analysis_Kaggle/blob/master/CatGorical_Data_Analysis.ipynb\" target=\"_parent\"><img src=\"https://colab.research.google.com/assets/colab-badge.svg\" alt=\"Open In Colab\"/></a>"
      ]
    },
    {
      "cell_type": "code",
      "metadata": {
        "trusted": true,
        "id": "CdBZKccGBo1J",
        "colab_type": "code",
        "outputId": "bf94c340-b6e5-43da-9238-f809adcabd5a",
        "colab": {
          "base_uri": "https://localhost:8080/",
          "height": 127
        }
      },
      "source": [
        "!git clone https://github.com/adarsh-meher/CatGorical_Analysis_Kaggle.git"
      ],
      "execution_count": 1,
      "outputs": [
        {
          "output_type": "stream",
          "text": [
            "Cloning into 'CatGorical_Analysis_Kaggle'...\n",
            "remote: Enumerating objects: 20, done.\u001b[K\n",
            "remote: Counting objects: 100% (20/20), done.\u001b[K\n",
            "remote: Compressing objects: 100% (19/19), done.\u001b[K\n",
            "remote: Total 20 (delta 7), reused 0 (delta 0), pack-reused 0\u001b[K\n",
            "Unpacking objects: 100% (20/20), done.\n"
          ],
          "name": "stdout"
        }
      ]
    },
    {
      "cell_type": "code",
      "metadata": {
        "id": "ll-kTLBtCXOT",
        "colab_type": "code",
        "colab": {}
      },
      "source": [
        "import os\n",
        "os.chdir('/content/CatGorical_Analysis_Kaggle/')\n",
        "!unzip '/content/CatGorical_Analysis_Kaggle/train.zip'"
      ],
      "execution_count": 0,
      "outputs": []
    },
    {
      "cell_type": "code",
      "metadata": {
        "id": "KyxT7h9qCq9n",
        "colab_type": "code",
        "outputId": "81054317-1b5b-4765-f5a6-55749acd4ff7",
        "colab": {
          "base_uri": "https://localhost:8080/",
          "height": 54
        }
      },
      "source": [
        ""
      ],
      "execution_count": 3,
      "outputs": [
        {
          "output_type": "stream",
          "text": [
            "Archive:  /content/CatGorical_Analysis_Kaggle/train.zip\n",
            "  inflating: train.csv               \n"
          ],
          "name": "stdout"
        }
      ]
    },
    {
      "cell_type": "code",
      "metadata": {
        "_uuid": "8f2839f25d086af736a60e9eeb907d3b93b6e0e5",
        "_cell_guid": "b1076dfc-b9ad-4769-8c92-a6c4dae69d19",
        "trusted": true,
        "id": "kocSRxW-Bo0u",
        "colab_type": "code",
        "colab": {}
      },
      "source": [
        "import numpy as np # linear algebra\n",
        "import pandas as pd # data processing, CSV file I/O (e.g. pd.read_csv)\n",
        "\n",
        "train = pd.read_csv('train.csv')\n",
        "test = pd.read_csv('test.csv')\n",
        "test['target'] = [0]*test.shape[0]"
      ],
      "execution_count": 0,
      "outputs": []
    },
    {
      "cell_type": "code",
      "metadata": {
        "trusted": true,
        "id": "-jXnbmPTBo1V",
        "colab_type": "code",
        "outputId": "c9bd1e66-152e-4a0b-f695-2a4c969016a2",
        "colab": {
          "base_uri": "https://localhost:8080/",
          "height": 1000
        }
      },
      "source": [
        "!pip install hyperopt\n",
        "!pip install category_encoders\n",
        "!pip install tpot\n",
        "!pip install umap-learn\n",
        "!pip install mca\n",
        "!pip install h2o\n",
        "!pip install catboost\n",
        "!pip install lightgbm"
      ],
      "execution_count": 5,
      "outputs": [
        {
          "output_type": "stream",
          "text": [
            "Requirement already satisfied: hyperopt in /usr/local/lib/python3.6/dist-packages (0.1.2)\n",
            "Requirement already satisfied: tqdm in /usr/local/lib/python3.6/dist-packages (from hyperopt) (4.28.1)\n",
            "Requirement already satisfied: six in /usr/local/lib/python3.6/dist-packages (from hyperopt) (1.12.0)\n",
            "Requirement already satisfied: numpy in /usr/local/lib/python3.6/dist-packages (from hyperopt) (1.17.5)\n",
            "Requirement already satisfied: scipy in /usr/local/lib/python3.6/dist-packages (from hyperopt) (1.4.1)\n",
            "Requirement already satisfied: pymongo in /usr/local/lib/python3.6/dist-packages (from hyperopt) (3.10.0)\n",
            "Requirement already satisfied: future in /usr/local/lib/python3.6/dist-packages (from hyperopt) (0.16.0)\n",
            "Requirement already satisfied: networkx in /usr/local/lib/python3.6/dist-packages (from hyperopt) (2.4)\n",
            "Requirement already satisfied: decorator>=4.3.0 in /usr/local/lib/python3.6/dist-packages (from networkx->hyperopt) (4.4.1)\n",
            "Collecting category_encoders\n",
            "\u001b[?25l  Downloading https://files.pythonhosted.org/packages/a0/52/c54191ad3782de633ea3d6ee3bb2837bda0cf3bc97644bb6375cf14150a0/category_encoders-2.1.0-py2.py3-none-any.whl (100kB)\n",
            "\u001b[K     |████████████████████████████████| 102kB 3.6MB/s \n",
            "\u001b[?25hRequirement already satisfied: scikit-learn>=0.20.0 in /usr/local/lib/python3.6/dist-packages (from category_encoders) (0.22.1)\n",
            "Requirement already satisfied: numpy>=1.11.3 in /usr/local/lib/python3.6/dist-packages (from category_encoders) (1.17.5)\n",
            "Requirement already satisfied: scipy>=0.19.0 in /usr/local/lib/python3.6/dist-packages (from category_encoders) (1.4.1)\n",
            "Requirement already satisfied: pandas>=0.21.1 in /usr/local/lib/python3.6/dist-packages (from category_encoders) (0.25.3)\n",
            "Requirement already satisfied: statsmodels>=0.6.1 in /usr/local/lib/python3.6/dist-packages (from category_encoders) (0.10.2)\n",
            "Requirement already satisfied: patsy>=0.4.1 in /usr/local/lib/python3.6/dist-packages (from category_encoders) (0.5.1)\n",
            "Requirement already satisfied: joblib>=0.11 in /usr/local/lib/python3.6/dist-packages (from scikit-learn>=0.20.0->category_encoders) (0.14.1)\n",
            "Requirement already satisfied: pytz>=2017.2 in /usr/local/lib/python3.6/dist-packages (from pandas>=0.21.1->category_encoders) (2018.9)\n",
            "Requirement already satisfied: python-dateutil>=2.6.1 in /usr/local/lib/python3.6/dist-packages (from pandas>=0.21.1->category_encoders) (2.6.1)\n",
            "Requirement already satisfied: six in /usr/local/lib/python3.6/dist-packages (from patsy>=0.4.1->category_encoders) (1.12.0)\n",
            "Installing collected packages: category-encoders\n",
            "Successfully installed category-encoders-2.1.0\n",
            "Collecting tpot\n",
            "\u001b[?25l  Downloading https://files.pythonhosted.org/packages/ea/9f/813faf5ec7aa95f393a07603abd01fcb925b65ffe95441b25da029a69ff7/TPOT-0.11.1-py3-none-any.whl (75kB)\n",
            "\u001b[K     |████████████████████████████████| 81kB 3.9MB/s \n",
            "\u001b[?25hRequirement already satisfied: numpy>=1.16.3 in /usr/local/lib/python3.6/dist-packages (from tpot) (1.17.5)\n",
            "Collecting stopit>=1.1.1\n",
            "  Downloading https://files.pythonhosted.org/packages/35/58/e8bb0b0fb05baf07bbac1450c447d753da65f9701f551dca79823ce15d50/stopit-1.1.2.tar.gz\n",
            "Requirement already satisfied: pandas>=0.24.2 in /usr/local/lib/python3.6/dist-packages (from tpot) (0.25.3)\n",
            "Collecting update-checker>=0.16\n",
            "  Downloading https://files.pythonhosted.org/packages/17/c9/ab11855af164d03be0ff4fddd4c46a5bd44799a9ecc1770e01a669c21168/update_checker-0.16-py2.py3-none-any.whl\n",
            "Collecting tqdm>=4.36.1\n",
            "\u001b[?25l  Downloading https://files.pythonhosted.org/packages/cc/2e/4307206db63f05ed37e21d4c0d843d0fbcacd62479f8ce99ba0f2c0875e0/tqdm-4.42.0-py2.py3-none-any.whl (59kB)\n",
            "\u001b[K     |████████████████████████████████| 61kB 7.7MB/s \n",
            "\u001b[?25hCollecting deap>=1.2\n",
            "\u001b[?25l  Downloading https://files.pythonhosted.org/packages/0a/eb/2bd0a32e3ce757fb26264765abbaedd6d4d3640d90219a513aeabd08ee2b/deap-1.3.1-cp36-cp36m-manylinux2010_x86_64.whl (157kB)\n",
            "\u001b[K     |████████████████████████████████| 163kB 50.3MB/s \n",
            "\u001b[?25hRequirement already satisfied: joblib>=0.13.2 in /usr/local/lib/python3.6/dist-packages (from tpot) (0.14.1)\n",
            "Requirement already satisfied: scipy>=1.3.1 in /usr/local/lib/python3.6/dist-packages (from tpot) (1.4.1)\n",
            "Requirement already satisfied: scikit-learn>=0.22.0 in /usr/local/lib/python3.6/dist-packages (from tpot) (0.22.1)\n",
            "Requirement already satisfied: pytz>=2017.2 in /usr/local/lib/python3.6/dist-packages (from pandas>=0.24.2->tpot) (2018.9)\n",
            "Requirement already satisfied: python-dateutil>=2.6.1 in /usr/local/lib/python3.6/dist-packages (from pandas>=0.24.2->tpot) (2.6.1)\n",
            "Requirement already satisfied: requests>=2.3.0 in /usr/local/lib/python3.6/dist-packages (from update-checker>=0.16->tpot) (2.21.0)\n",
            "Requirement already satisfied: six>=1.5 in /usr/local/lib/python3.6/dist-packages (from python-dateutil>=2.6.1->pandas>=0.24.2->tpot) (1.12.0)\n",
            "Requirement already satisfied: urllib3<1.25,>=1.21.1 in /usr/local/lib/python3.6/dist-packages (from requests>=2.3.0->update-checker>=0.16->tpot) (1.24.3)\n",
            "Requirement already satisfied: certifi>=2017.4.17 in /usr/local/lib/python3.6/dist-packages (from requests>=2.3.0->update-checker>=0.16->tpot) (2019.11.28)\n",
            "Requirement already satisfied: idna<2.9,>=2.5 in /usr/local/lib/python3.6/dist-packages (from requests>=2.3.0->update-checker>=0.16->tpot) (2.8)\n",
            "Requirement already satisfied: chardet<3.1.0,>=3.0.2 in /usr/local/lib/python3.6/dist-packages (from requests>=2.3.0->update-checker>=0.16->tpot) (3.0.4)\n",
            "Building wheels for collected packages: stopit\n",
            "  Building wheel for stopit (setup.py) ... \u001b[?25l\u001b[?25hdone\n",
            "  Created wheel for stopit: filename=stopit-1.1.2-cp36-none-any.whl size=11955 sha256=283d7879d70c7abe7550013ca22d5eee43eda1320fad7dd861c38c4e107012d6\n",
            "  Stored in directory: /root/.cache/pip/wheels/3c/85/2b/2580190404636bfc63e8de3dff629c03bb795021e1983a6cc7\n",
            "Successfully built stopit\n",
            "Installing collected packages: stopit, update-checker, tqdm, deap, tpot\n",
            "  Found existing installation: tqdm 4.28.1\n",
            "    Uninstalling tqdm-4.28.1:\n",
            "      Successfully uninstalled tqdm-4.28.1\n",
            "Successfully installed deap-1.3.1 stopit-1.1.2 tpot-0.11.1 tqdm-4.42.0 update-checker-0.16\n"
          ],
          "name": "stdout"
        },
        {
          "output_type": "display_data",
          "data": {
            "application/vnd.colab-display-data+json": {
              "pip_warning": {
                "packages": [
                  "tqdm"
                ]
              }
            }
          },
          "metadata": {
            "tags": []
          }
        },
        {
          "output_type": "stream",
          "text": [
            "Requirement already satisfied: umap-learn in /usr/local/lib/python3.6/dist-packages (0.3.10)\n",
            "Requirement already satisfied: scikit-learn>=0.16 in /usr/local/lib/python3.6/dist-packages (from umap-learn) (0.22.1)\n",
            "Requirement already satisfied: scipy>=0.19 in /usr/local/lib/python3.6/dist-packages (from umap-learn) (1.4.1)\n",
            "Requirement already satisfied: numpy>=1.13 in /usr/local/lib/python3.6/dist-packages (from umap-learn) (1.17.5)\n",
            "Requirement already satisfied: numba>=0.37 in /usr/local/lib/python3.6/dist-packages (from umap-learn) (0.47.0)\n",
            "Requirement already satisfied: joblib>=0.11 in /usr/local/lib/python3.6/dist-packages (from scikit-learn>=0.16->umap-learn) (0.14.1)\n",
            "Requirement already satisfied: setuptools in /usr/local/lib/python3.6/dist-packages (from numba>=0.37->umap-learn) (42.0.2)\n",
            "Requirement already satisfied: llvmlite>=0.31.0dev0 in /usr/local/lib/python3.6/dist-packages (from numba>=0.37->umap-learn) (0.31.0)\n",
            "Collecting mca\n",
            "  Downloading https://files.pythonhosted.org/packages/7d/2a/6e07182d578514f25877872c2b320f5d6d9eee81d9d397d575c9dc2ae827/mca-1.0.3.tar.gz\n",
            "Requirement already satisfied: scipy in /usr/local/lib/python3.6/dist-packages (from mca) (1.4.1)\n",
            "Requirement already satisfied: numpy in /usr/local/lib/python3.6/dist-packages (from mca) (1.17.5)\n",
            "Requirement already satisfied: pandas in /usr/local/lib/python3.6/dist-packages (from mca) (0.25.3)\n",
            "Requirement already satisfied: python-dateutil>=2.6.1 in /usr/local/lib/python3.6/dist-packages (from pandas->mca) (2.6.1)\n",
            "Requirement already satisfied: pytz>=2017.2 in /usr/local/lib/python3.6/dist-packages (from pandas->mca) (2018.9)\n",
            "Requirement already satisfied: six>=1.5 in /usr/local/lib/python3.6/dist-packages (from python-dateutil>=2.6.1->pandas->mca) (1.12.0)\n",
            "Building wheels for collected packages: mca\n",
            "  Building wheel for mca (setup.py) ... \u001b[?25l\u001b[?25hdone\n",
            "  Created wheel for mca: filename=mca-1.0.3-py2.py3-none-any.whl size=5999 sha256=f5a217a3b9d7f199899ca4e6888787c9b82dc6b16ccce7340fb3823e4353dfff\n",
            "  Stored in directory: /root/.cache/pip/wheels/01/fb/ff/19d72d65c8bb01d4af40c9c2ca20fd267d1969b3b5f8dd60d6\n",
            "Successfully built mca\n",
            "Installing collected packages: mca\n",
            "Successfully installed mca-1.0.3\n",
            "Collecting h2o\n",
            "\u001b[?25l  Downloading https://files.pythonhosted.org/packages/27/09/c10dda3ad7633c7d12c04f739de82e181c52b9c4efc5133470a542b6d942/h2o-3.28.0.2.tar.gz (126.2MB)\n",
            "\u001b[K     |████████████████████████████████| 126.2MB 24kB/s \n",
            "\u001b[?25hRequirement already satisfied: requests in /usr/local/lib/python3.6/dist-packages (from h2o) (2.21.0)\n",
            "Requirement already satisfied: tabulate in /usr/local/lib/python3.6/dist-packages (from h2o) (0.8.6)\n",
            "Requirement already satisfied: future in /usr/local/lib/python3.6/dist-packages (from h2o) (0.16.0)\n",
            "Collecting colorama>=0.3.8\n",
            "  Downloading https://files.pythonhosted.org/packages/c9/dc/45cdef1b4d119eb96316b3117e6d5708a08029992b2fee2c143c7a0a5cc5/colorama-0.4.3-py2.py3-none-any.whl\n",
            "Requirement already satisfied: chardet<3.1.0,>=3.0.2 in /usr/local/lib/python3.6/dist-packages (from requests->h2o) (3.0.4)\n",
            "Requirement already satisfied: urllib3<1.25,>=1.21.1 in /usr/local/lib/python3.6/dist-packages (from requests->h2o) (1.24.3)\n",
            "Requirement already satisfied: certifi>=2017.4.17 in /usr/local/lib/python3.6/dist-packages (from requests->h2o) (2019.11.28)\n",
            "Requirement already satisfied: idna<2.9,>=2.5 in /usr/local/lib/python3.6/dist-packages (from requests->h2o) (2.8)\n",
            "Building wheels for collected packages: h2o\n",
            "  Building wheel for h2o (setup.py) ... \u001b[?25l\u001b[?25hdone\n",
            "  Created wheel for h2o: filename=h2o-3.28.0.2-py2.py3-none-any.whl size=126306423 sha256=cec071950103754e1c1e962bbcf2c007a109da96082a5a741ddb2e05bcdb8d5b\n",
            "  Stored in directory: /root/.cache/pip/wheels/aa/ef/05/cc37b576425ec5a47be07cc42aa60c6e8b3fc21119808a6b63\n",
            "Successfully built h2o\n",
            "Installing collected packages: colorama, h2o\n",
            "Successfully installed colorama-0.4.3 h2o-3.28.0.2\n",
            "Collecting catboost\n",
            "\u001b[?25l  Downloading https://files.pythonhosted.org/packages/ca/ae/aaff63662f7f5d2af7ec8d61a6f39e78ada9348e5df4f43e665ecc4bea10/catboost-0.21-cp36-none-manylinux1_x86_64.whl (64.0MB)\n",
            "\u001b[K     |████████████████████████████████| 64.0MB 48kB/s \n",
            "\u001b[?25hRequirement already satisfied: graphviz in /usr/local/lib/python3.6/dist-packages (from catboost) (0.10.1)\n",
            "Requirement already satisfied: numpy>=1.16.0 in /usr/local/lib/python3.6/dist-packages (from catboost) (1.17.5)\n",
            "Requirement already satisfied: pandas>=0.24.0 in /usr/local/lib/python3.6/dist-packages (from catboost) (0.25.3)\n",
            "Requirement already satisfied: matplotlib in /usr/local/lib/python3.6/dist-packages (from catboost) (3.1.2)\n",
            "Requirement already satisfied: six in /usr/local/lib/python3.6/dist-packages (from catboost) (1.12.0)\n",
            "Requirement already satisfied: scipy in /usr/local/lib/python3.6/dist-packages (from catboost) (1.4.1)\n",
            "Requirement already satisfied: plotly in /usr/local/lib/python3.6/dist-packages (from catboost) (4.4.1)\n",
            "Requirement already satisfied: python-dateutil>=2.6.1 in /usr/local/lib/python3.6/dist-packages (from pandas>=0.24.0->catboost) (2.6.1)\n",
            "Requirement already satisfied: pytz>=2017.2 in /usr/local/lib/python3.6/dist-packages (from pandas>=0.24.0->catboost) (2018.9)\n",
            "Requirement already satisfied: pyparsing!=2.0.4,!=2.1.2,!=2.1.6,>=2.0.1 in /usr/local/lib/python3.6/dist-packages (from matplotlib->catboost) (2.4.6)\n",
            "Requirement already satisfied: cycler>=0.10 in /usr/local/lib/python3.6/dist-packages (from matplotlib->catboost) (0.10.0)\n",
            "Requirement already satisfied: kiwisolver>=1.0.1 in /usr/local/lib/python3.6/dist-packages (from matplotlib->catboost) (1.1.0)\n",
            "Requirement already satisfied: retrying>=1.3.3 in /usr/local/lib/python3.6/dist-packages (from plotly->catboost) (1.3.3)\n",
            "Requirement already satisfied: setuptools in /usr/local/lib/python3.6/dist-packages (from kiwisolver>=1.0.1->matplotlib->catboost) (42.0.2)\n",
            "Installing collected packages: catboost\n",
            "Successfully installed catboost-0.21\n",
            "Requirement already satisfied: lightgbm in /usr/local/lib/python3.6/dist-packages (2.2.3)\n",
            "Requirement already satisfied: scipy in /usr/local/lib/python3.6/dist-packages (from lightgbm) (1.4.1)\n",
            "Requirement already satisfied: scikit-learn in /usr/local/lib/python3.6/dist-packages (from lightgbm) (0.22.1)\n",
            "Requirement already satisfied: numpy in /usr/local/lib/python3.6/dist-packages (from lightgbm) (1.17.5)\n",
            "Requirement already satisfied: joblib>=0.11 in /usr/local/lib/python3.6/dist-packages (from scikit-learn->lightgbm) (0.14.1)\n"
          ],
          "name": "stdout"
        }
      ]
    },
    {
      "cell_type": "code",
      "metadata": {
        "trusted": true,
        "id": "lXXw9JQeBo1f",
        "colab_type": "code",
        "colab": {}
      },
      "source": [
        ""
      ],
      "execution_count": 0,
      "outputs": []
    },
    {
      "cell_type": "code",
      "metadata": {
        "trusted": true,
        "id": "bGLwDZLyBo1o",
        "colab_type": "code",
        "colab": {}
      },
      "source": [
        "import category_encoders as ce\n",
        "import h2o\n",
        "import scipy as sc\n",
        "from sklearn.model_selection import train_test_split,GridSearchCV,cross_val_score,StratifiedKFold\n",
        "from sklearn.linear_model import LogisticRegression,RidgeClassifier,SGDClassifier\n",
        "from sklearn.ensemble import RandomForestClassifier,GradientBoostingClassifier,ExtraTreesClassifier,VotingClassifier\n",
        "from xgboost import XGBClassifier\n",
        "from lightgbm import LGBMClassifier\n",
        "from mlxtend.classifier import StackingClassifier\n",
        "from sklearn.naive_bayes import BernoulliNB\n",
        "from imblearn.over_sampling import RandomOverSampler\n",
        "import seaborn as sb\n",
        "import matplotlib.pyplot as plt\n",
        "import matplotlib as mpl\n",
        "from sklearn.metrics import roc_auc_score,make_scorer\n",
        "from hyperopt import fmin, hp, tpe, Trials, space_eval, STATUS_OK\n",
        "from hyperopt.pyll import scope as ho_scope\n",
        "from hyperopt.pyll.stochastic import sample as ho_sample"
      ],
      "execution_count": 0,
      "outputs": []
    },
    {
      "cell_type": "code",
      "metadata": {
        "trusted": true,
        "id": "aFHl-B_LBo1w",
        "colab_type": "code",
        "colab": {}
      },
      "source": [
        "from catboost import CatBoostClassifier,Pool,cv\n",
        "from catboost import train as cb_train\n",
        "from sklearn.feature_selection import mutual_info_classif,SelectKBest,chi2,RFECV\n",
        "import time\n",
        "import warnings\n",
        "warnings.filterwarnings('ignore')"
      ],
      "execution_count": 0,
      "outputs": []
    },
    {
      "cell_type": "code",
      "metadata": {
        "trusted": true,
        "id": "5Y_KNXLPBo12",
        "colab_type": "code",
        "colab": {}
      },
      "source": [
        ""
      ],
      "execution_count": 0,
      "outputs": []
    },
    {
      "cell_type": "code",
      "metadata": {
        "trusted": true,
        "id": "SMPFHGuqBo1_",
        "colab_type": "code",
        "colab": {}
      },
      "source": [
        "#### Reduce memory space\n",
        "def reduce_mem_usage(data,print_res = True):\n",
        "  num_types = ['int16', 'int32', 'int64', 'float16', 'float32', 'float64']\n",
        "  curr_mem_usage = data.memory_usage().sum()/1024**2\n",
        "  for c in data.columns.tolist():\n",
        "    col_type = data[c].dtypes\n",
        "    if col_type in num_types:\n",
        "      col_min = data[c].min()\n",
        "      col_max = data[c].max()\n",
        "\n",
        "      if 'int' in str(col_type):\n",
        "        if col_min>np.iinfo(np.int8).min and col_max<np.iinfo(np.int8).max:\n",
        "          data[c] = data[c].astype(np.int8)\n",
        "        elif col_min>np.iinfo(np.int16).min and col_max<np.iinfo(np.int16).max:\n",
        "          data[c] = data[c].astype(np.int16)\n",
        "        elif col_min>np.iinfo(np.int32).min and col_max<np.iinfo(np.int32).max:\n",
        "          data[c] = data[c].astype(np.int32)\n",
        "        elif col_min>np.iinfo(np.int64).min and col_max<np.iinfo(np.int64).max:\n",
        "          data[c] = data[c].astype(np.int64)\n",
        "        else:\n",
        "          pass\n",
        "\n",
        "      else:\n",
        "        if col_min>np.finfo(np.float16).min and col_max<np.finfo(np.float16).max:\n",
        "          data[c] = data[c].astype(np.int8)\n",
        "        elif col_min>np.finfo(np.float32).min and col_max<np.finfo(np.float32).max:\n",
        "          data[c] = data[c].astype(np.int16)\n",
        "        elif col_min>np.finfo(np.float64).min and col_max<np.finfo(np.float64).max:\n",
        "          data[c] = data[c].astype(np.int32)\n",
        "        else:\n",
        "          pass\n",
        "    else:\n",
        "      continue\n",
        "\n",
        "  reduce_usage = data.memory_usage().sum()/1024**2\n",
        "  if print_res: print('Mem. usage decreased to {:5.2f} Mb ({:.1f}% reduction)'.format(reduce_usage, 100 * (curr_mem_usage - reduce_usage) / curr_mem_usage))\n",
        "\n",
        "  return data    "
      ],
      "execution_count": 0,
      "outputs": []
    },
    {
      "cell_type": "code",
      "metadata": {
        "id": "j7MOL4retttD",
        "colab_type": "code",
        "outputId": "e17b8416-669c-4eb4-9452-74b11c88fbc8",
        "colab": {
          "base_uri": "https://localhost:8080/",
          "height": 54
        }
      },
      "source": [
        "train = reduce_mem_usage(train)\n",
        "test = reduce_mem_usage(test)"
      ],
      "execution_count": 28,
      "outputs": [
        {
          "output_type": "stream",
          "text": [
            "Mem. usage decreased to 42.06 Mb (0.0% reduction)\n",
            "Mem. usage decreased to 28.04 Mb (0.0% reduction)\n"
          ],
          "name": "stdout"
        }
      ]
    },
    {
      "cell_type": "code",
      "metadata": {
        "id": "nLFnc7Lnttg1",
        "colab_type": "code",
        "colab": {}
      },
      "source": [
        ""
      ],
      "execution_count": 0,
      "outputs": []
    },
    {
      "cell_type": "code",
      "metadata": {
        "trusted": true,
        "id": "s0D6hvQSBo2J",
        "colab_type": "code",
        "outputId": "dff9d7b7-ffd1-41dc-d655-abe9fa88440f",
        "colab": {
          "base_uri": "https://localhost:8080/",
          "height": 72
        }
      },
      "source": [
        "#### Target variable distribution\n",
        "train['target'].value_counts()/train.shape[0]\n",
        "# 0    0.69412\n",
        "# 1    0.30588"
      ],
      "execution_count": 29,
      "outputs": [
        {
          "output_type": "execute_result",
          "data": {
            "text/plain": [
              "0    0.69412\n",
              "1    0.30588\n",
              "Name: target, dtype: float64"
            ]
          },
          "metadata": {
            "tags": []
          },
          "execution_count": 29
        }
      ]
    },
    {
      "cell_type": "code",
      "metadata": {
        "trusted": true,
        "id": "Vakq6huyBo2U",
        "colab_type": "code",
        "outputId": "59e01462-dc9d-44fd-d56f-2fa76928c48e",
        "colab": {
          "base_uri": "https://localhost:8080/",
          "height": 458
        }
      },
      "source": [
        "#### Numer of unique values in each variable in train and test\n",
        "for i in train.columns:\n",
        "    if i!='id':\n",
        "        print('Number of Unique values in %s for train : %s and test : %s' % (i,train[i].nunique(),test[i].nunique()))"
      ],
      "execution_count": 30,
      "outputs": [
        {
          "output_type": "stream",
          "text": [
            "Number of Unique values in bin_0 for train : 2 and test : 2\n",
            "Number of Unique values in bin_1 for train : 2 and test : 2\n",
            "Number of Unique values in bin_2 for train : 2 and test : 2\n",
            "Number of Unique values in bin_3 for train : 2 and test : 2\n",
            "Number of Unique values in bin_4 for train : 2 and test : 2\n",
            "Number of Unique values in nom_0 for train : 3 and test : 3\n",
            "Number of Unique values in nom_1 for train : 6 and test : 6\n",
            "Number of Unique values in nom_2 for train : 6 and test : 6\n",
            "Number of Unique values in nom_3 for train : 6 and test : 6\n",
            "Number of Unique values in nom_4 for train : 4 and test : 4\n",
            "Number of Unique values in nom_5 for train : 222 and test : 222\n",
            "Number of Unique values in nom_6 for train : 522 and test : 522\n",
            "Number of Unique values in nom_7 for train : 1220 and test : 1219\n",
            "Number of Unique values in nom_8 for train : 2215 and test : 2214\n",
            "Number of Unique values in nom_9 for train : 11981 and test : 11839\n",
            "Number of Unique values in ord_0 for train : 3 and test : 3\n",
            "Number of Unique values in ord_1 for train : 5 and test : 5\n",
            "Number of Unique values in ord_2 for train : 6 and test : 6\n",
            "Number of Unique values in ord_3 for train : 15 and test : 15\n",
            "Number of Unique values in ord_4 for train : 26 and test : 26\n",
            "Number of Unique values in ord_5 for train : 192 and test : 192\n",
            "Number of Unique values in day for train : 7 and test : 7\n",
            "Number of Unique values in month for train : 12 and test : 12\n",
            "Number of Unique values in target for train : 2 and test : 1\n"
          ],
          "name": "stdout"
        }
      ]
    },
    {
      "cell_type": "code",
      "metadata": {
        "trusted": true,
        "id": "5GMlrQsLBo2g",
        "colab_type": "code",
        "outputId": "4d688fe0-c5a4-441c-f7f9-df20b1676a2c",
        "colab": {
          "base_uri": "https://localhost:8080/",
          "height": 476
        }
      },
      "source": [
        "#### Columns where train and test have different category values\n",
        "for i in train.columns.tolist():\n",
        "    s1 = len(set(train[i].unique()).difference(set(test[i].unique())))\n",
        "    s2 = len(set(test[i].unique()).difference(set(train[i].unique())))\n",
        "    print('For variable %s : Category in train but not in test : %s and in test but not in train : %s' % (i,s1,s2))\n",
        "    \n",
        "### nom_7,nom_8,nom_9 are variables whcich have varying category labels in train and test"
      ],
      "execution_count": 31,
      "outputs": [
        {
          "output_type": "stream",
          "text": [
            "For variable id : Category in train but not in test : 300000 and in test but not in train : 200000\n",
            "For variable bin_0 : Category in train but not in test : 0 and in test but not in train : 0\n",
            "For variable bin_1 : Category in train but not in test : 0 and in test but not in train : 0\n",
            "For variable bin_2 : Category in train but not in test : 0 and in test but not in train : 0\n",
            "For variable bin_3 : Category in train but not in test : 0 and in test but not in train : 0\n",
            "For variable bin_4 : Category in train but not in test : 0 and in test but not in train : 0\n",
            "For variable nom_0 : Category in train but not in test : 0 and in test but not in train : 0\n",
            "For variable nom_1 : Category in train but not in test : 0 and in test but not in train : 0\n",
            "For variable nom_2 : Category in train but not in test : 0 and in test but not in train : 0\n",
            "For variable nom_3 : Category in train but not in test : 0 and in test but not in train : 0\n",
            "For variable nom_4 : Category in train but not in test : 0 and in test but not in train : 0\n",
            "For variable nom_5 : Category in train but not in test : 0 and in test but not in train : 0\n",
            "For variable nom_6 : Category in train but not in test : 0 and in test but not in train : 0\n",
            "For variable nom_7 : Category in train but not in test : 1 and in test but not in train : 0\n",
            "For variable nom_8 : Category in train but not in test : 5 and in test but not in train : 4\n",
            "For variable nom_9 : Category in train but not in test : 229 and in test but not in train : 87\n",
            "For variable ord_0 : Category in train but not in test : 0 and in test but not in train : 0\n",
            "For variable ord_1 : Category in train but not in test : 0 and in test but not in train : 0\n",
            "For variable ord_2 : Category in train but not in test : 0 and in test but not in train : 0\n",
            "For variable ord_3 : Category in train but not in test : 0 and in test but not in train : 0\n",
            "For variable ord_4 : Category in train but not in test : 0 and in test but not in train : 0\n",
            "For variable ord_5 : Category in train but not in test : 0 and in test but not in train : 0\n",
            "For variable day : Category in train but not in test : 0 and in test but not in train : 0\n",
            "For variable month : Category in train but not in test : 0 and in test but not in train : 0\n",
            "For variable target : Category in train but not in test : 1 and in test but not in train : 0\n"
          ],
          "name": "stdout"
        }
      ]
    },
    {
      "cell_type": "code",
      "metadata": {
        "trusted": true,
        "id": "lpqKkJ5WBo2t",
        "colab_type": "code",
        "colab": {}
      },
      "source": [
        "df1 = pd.DataFrame({ k:train[k].nunique() for k in train.columns if k not in ['id','target']},index = [0]).T.reset_index()\n",
        "high_card_feats = df1[df1[0]>12]['index'].values.tolist()\n",
        "low_card_feats = df1[df1[0]<=12]['index'].values.tolist()"
      ],
      "execution_count": 0,
      "outputs": []
    },
    {
      "cell_type": "markdown",
      "metadata": {
        "id": "bJ4Hzi5YHHNh",
        "colab_type": "text"
      },
      "source": [
        "## **`EDA and Feature Engineering`**"
      ]
    },
    {
      "cell_type": "code",
      "metadata": {
        "id": "ZOTwC6-LHGwg",
        "colab_type": "code",
        "outputId": "4d8ab166-082f-4580-b777-ca8db48e19e9",
        "colab": {
          "base_uri": "https://localhost:8080/",
          "height": 261
        }
      },
      "source": [
        "train.head()"
      ],
      "execution_count": 33,
      "outputs": [
        {
          "output_type": "execute_result",
          "data": {
            "text/html": [
              "<div>\n",
              "<style scoped>\n",
              "    .dataframe tbody tr th:only-of-type {\n",
              "        vertical-align: middle;\n",
              "    }\n",
              "\n",
              "    .dataframe tbody tr th {\n",
              "        vertical-align: top;\n",
              "    }\n",
              "\n",
              "    .dataframe thead th {\n",
              "        text-align: right;\n",
              "    }\n",
              "</style>\n",
              "<table border=\"1\" class=\"dataframe\">\n",
              "  <thead>\n",
              "    <tr style=\"text-align: right;\">\n",
              "      <th></th>\n",
              "      <th>id</th>\n",
              "      <th>bin_0</th>\n",
              "      <th>bin_1</th>\n",
              "      <th>bin_2</th>\n",
              "      <th>bin_3</th>\n",
              "      <th>bin_4</th>\n",
              "      <th>nom_0</th>\n",
              "      <th>nom_1</th>\n",
              "      <th>nom_2</th>\n",
              "      <th>nom_3</th>\n",
              "      <th>nom_4</th>\n",
              "      <th>nom_5</th>\n",
              "      <th>nom_6</th>\n",
              "      <th>nom_7</th>\n",
              "      <th>nom_8</th>\n",
              "      <th>nom_9</th>\n",
              "      <th>ord_0</th>\n",
              "      <th>ord_1</th>\n",
              "      <th>ord_2</th>\n",
              "      <th>ord_3</th>\n",
              "      <th>ord_4</th>\n",
              "      <th>ord_5</th>\n",
              "      <th>day</th>\n",
              "      <th>month</th>\n",
              "      <th>target</th>\n",
              "    </tr>\n",
              "  </thead>\n",
              "  <tbody>\n",
              "    <tr>\n",
              "      <th>0</th>\n",
              "      <td>0</td>\n",
              "      <td>0</td>\n",
              "      <td>0</td>\n",
              "      <td>0</td>\n",
              "      <td>T</td>\n",
              "      <td>Y</td>\n",
              "      <td>Green</td>\n",
              "      <td>Triangle</td>\n",
              "      <td>Snake</td>\n",
              "      <td>Finland</td>\n",
              "      <td>Bassoon</td>\n",
              "      <td>50f116bcf</td>\n",
              "      <td>3ac1b8814</td>\n",
              "      <td>68f6ad3e9</td>\n",
              "      <td>c389000ab</td>\n",
              "      <td>2f4cb3d51</td>\n",
              "      <td>2</td>\n",
              "      <td>Grandmaster</td>\n",
              "      <td>Cold</td>\n",
              "      <td>h</td>\n",
              "      <td>D</td>\n",
              "      <td>kr</td>\n",
              "      <td>2</td>\n",
              "      <td>2</td>\n",
              "      <td>0</td>\n",
              "    </tr>\n",
              "    <tr>\n",
              "      <th>1</th>\n",
              "      <td>1</td>\n",
              "      <td>0</td>\n",
              "      <td>1</td>\n",
              "      <td>0</td>\n",
              "      <td>T</td>\n",
              "      <td>Y</td>\n",
              "      <td>Green</td>\n",
              "      <td>Trapezoid</td>\n",
              "      <td>Hamster</td>\n",
              "      <td>Russia</td>\n",
              "      <td>Piano</td>\n",
              "      <td>b3b4d25d0</td>\n",
              "      <td>fbcb50fc1</td>\n",
              "      <td>3b6dd5612</td>\n",
              "      <td>4cd920251</td>\n",
              "      <td>f83c56c21</td>\n",
              "      <td>1</td>\n",
              "      <td>Grandmaster</td>\n",
              "      <td>Hot</td>\n",
              "      <td>a</td>\n",
              "      <td>A</td>\n",
              "      <td>bF</td>\n",
              "      <td>7</td>\n",
              "      <td>8</td>\n",
              "      <td>0</td>\n",
              "    </tr>\n",
              "    <tr>\n",
              "      <th>2</th>\n",
              "      <td>2</td>\n",
              "      <td>0</td>\n",
              "      <td>0</td>\n",
              "      <td>0</td>\n",
              "      <td>F</td>\n",
              "      <td>Y</td>\n",
              "      <td>Blue</td>\n",
              "      <td>Trapezoid</td>\n",
              "      <td>Lion</td>\n",
              "      <td>Russia</td>\n",
              "      <td>Theremin</td>\n",
              "      <td>3263bdce5</td>\n",
              "      <td>0922e3cb8</td>\n",
              "      <td>a6a36f527</td>\n",
              "      <td>de9c9f684</td>\n",
              "      <td>ae6800dd0</td>\n",
              "      <td>1</td>\n",
              "      <td>Expert</td>\n",
              "      <td>Lava Hot</td>\n",
              "      <td>h</td>\n",
              "      <td>R</td>\n",
              "      <td>Jc</td>\n",
              "      <td>7</td>\n",
              "      <td>2</td>\n",
              "      <td>0</td>\n",
              "    </tr>\n",
              "    <tr>\n",
              "      <th>3</th>\n",
              "      <td>3</td>\n",
              "      <td>0</td>\n",
              "      <td>1</td>\n",
              "      <td>0</td>\n",
              "      <td>F</td>\n",
              "      <td>Y</td>\n",
              "      <td>Red</td>\n",
              "      <td>Trapezoid</td>\n",
              "      <td>Snake</td>\n",
              "      <td>Canada</td>\n",
              "      <td>Oboe</td>\n",
              "      <td>f12246592</td>\n",
              "      <td>50d7ad46a</td>\n",
              "      <td>ec69236eb</td>\n",
              "      <td>4ade6ab69</td>\n",
              "      <td>8270f0d71</td>\n",
              "      <td>1</td>\n",
              "      <td>Grandmaster</td>\n",
              "      <td>Boiling Hot</td>\n",
              "      <td>i</td>\n",
              "      <td>D</td>\n",
              "      <td>kW</td>\n",
              "      <td>2</td>\n",
              "      <td>1</td>\n",
              "      <td>1</td>\n",
              "    </tr>\n",
              "    <tr>\n",
              "      <th>4</th>\n",
              "      <td>4</td>\n",
              "      <td>0</td>\n",
              "      <td>0</td>\n",
              "      <td>0</td>\n",
              "      <td>F</td>\n",
              "      <td>N</td>\n",
              "      <td>Red</td>\n",
              "      <td>Trapezoid</td>\n",
              "      <td>Lion</td>\n",
              "      <td>Canada</td>\n",
              "      <td>Oboe</td>\n",
              "      <td>5b0f5acd5</td>\n",
              "      <td>1fe17a1fd</td>\n",
              "      <td>04ddac2be</td>\n",
              "      <td>cb43ab175</td>\n",
              "      <td>b164b72a7</td>\n",
              "      <td>1</td>\n",
              "      <td>Grandmaster</td>\n",
              "      <td>Freezing</td>\n",
              "      <td>a</td>\n",
              "      <td>R</td>\n",
              "      <td>qP</td>\n",
              "      <td>7</td>\n",
              "      <td>8</td>\n",
              "      <td>0</td>\n",
              "    </tr>\n",
              "  </tbody>\n",
              "</table>\n",
              "</div>"
            ],
            "text/plain": [
              "   id  bin_0  bin_1  bin_2 bin_3 bin_4  ... ord_3 ord_4 ord_5 day month target\n",
              "0   0      0      0      0     T     Y  ...     h     D    kr   2     2      0\n",
              "1   1      0      1      0     T     Y  ...     a     A    bF   7     8      0\n",
              "2   2      0      0      0     F     Y  ...     h     R    Jc   7     2      0\n",
              "3   3      0      1      0     F     Y  ...     i     D    kW   2     1      1\n",
              "4   4      0      0      0     F     N  ...     a     R    qP   7     8      0\n",
              "\n",
              "[5 rows x 25 columns]"
            ]
          },
          "metadata": {
            "tags": []
          },
          "execution_count": 33
        }
      ]
    },
    {
      "cell_type": "code",
      "metadata": {
        "id": "DGSCNvLFHGsV",
        "colab_type": "code",
        "outputId": "75fdfb02-1328-4ad0-c1e2-899fd1d59ec5",
        "colab": {
          "base_uri": "https://localhost:8080/",
          "height": 335
        }
      },
      "source": [
        "##### binary variables vs Target distribution\n",
        "bin_cols = ['bin_0','bin_1','bin_2','bin_3','bin_4']\n",
        "nrows = 1\n",
        "ncols = int(len(bin_cols))\n",
        "\n",
        "fig,axs = plt.subplots(nrows,ncols,figsize = (20,5))\n",
        "for i,c in enumerate(bin_cols):\n",
        "  sb.countplot(x = train[c],hue = train['target'],ax = axs[i])\n",
        "\n",
        "\n",
        "#### Observation : In bin_3 the proportion of 0/1 in T/F are approximately similar. We can see if this variable can provide any information else it can be dropped. \\\n",
        "#### We can one hot encode these features replacing strings to corresponding numerical values."
      ],
      "execution_count": 34,
      "outputs": [
        {
          "output_type": "display_data",
          "data": {
            "image/png": "[encoded data removed]",
            "text/plain": [
              "<Figure size 1440x360 with 5 Axes>"
            ]
          },
          "metadata": {
            "tags": []
          }
        }
      ]
    },
    {
      "cell_type": "code",
      "metadata": {
        "id": "XilKkXVZ4Rn3",
        "colab_type": "code",
        "outputId": "4734eb92-5afd-4f0b-e916-46b546baf006",
        "colab": {
          "base_uri": "https://localhost:8080/",
          "height": 201
        }
      },
      "source": [
        "#### Distribution of nominal variables\n",
        "nom_vars_all = [ x for x in train.columns if 'nom' in x  ]\n",
        "for c in nom_vars_all:\n",
        "  print('Number of unique categories in {} : %s'.format(c) % (train[c].nunique()))"
      ],
      "execution_count": 35,
      "outputs": [
        {
          "output_type": "stream",
          "text": [
            "Number of unique categories in nom_0 : 3\n",
            "Number of unique categories in nom_1 : 6\n",
            "Number of unique categories in nom_2 : 6\n",
            "Number of unique categories in nom_3 : 6\n",
            "Number of unique categories in nom_4 : 4\n",
            "Number of unique categories in nom_5 : 222\n",
            "Number of unique categories in nom_6 : 522\n",
            "Number of unique categories in nom_7 : 1220\n",
            "Number of unique categories in nom_8 : 2215\n",
            "Number of unique categories in nom_9 : 11981\n"
          ],
          "name": "stdout"
        }
      ]
    },
    {
      "cell_type": "code",
      "metadata": {
        "id": "5X356eHhPlh9",
        "colab_type": "code",
        "colab": {
          "base_uri": "https://localhost:8080/",
          "height": 335
        },
        "outputId": "76f3ac96-f20d-4e90-8f97-3a8d885dbbba"
      },
      "source": [
        "#### nom_0 to nom_4 have less number of unique values as compared to other nom variable. We can plot their distribution with target.\n",
        "nom_cols = ['nom_0','nom_1','nom_2','nom_3','nom_4']\n",
        "nrows = 1\n",
        "ncols = int(len(nom_cols))\n",
        "\n",
        "fig,axs = plt.subplots(nrows,ncols,figsize = (20,5))\n",
        "for i,c in enumerate(nom_cols):\n",
        "  sb.countplot(x = train[c],hue = train['target'],ax = axs[i])\n"
      ],
      "execution_count": 36,
      "outputs": [
        {
          "output_type": "display_data",
          "data": {
            "image/png": "[encoded data removed]",
            "text/plain": [
              "<Figure size 1440x360 with 5 Axes>"
            ]
          },
          "metadata": {
            "tags": []
          }
        }
      ]
    },
    {
      "cell_type": "code",
      "metadata": {
        "id": "EuIFHXjPHGo6",
        "colab_type": "code",
        "colab": {}
      },
      "source": [
        "#### Remaining nominal variables can be treated by hashing/label encoder/target encoding\n",
        "high_card_nom_vars = [ x for x in train.columns if 'nom' in x and train[x].nunique()>15 ]\n"
      ],
      "execution_count": 0,
      "outputs": []
    },
    {
      "cell_type": "code",
      "metadata": {
        "id": "s2o8OwYvHGnV",
        "colab_type": "code",
        "colab": {}
      },
      "source": [
        ""
      ],
      "execution_count": 0,
      "outputs": []
    },
    {
      "cell_type": "code",
      "metadata": {
        "id": "ampR77AAHGkg",
        "colab_type": "code",
        "colab": {}
      },
      "source": [
        ""
      ],
      "execution_count": 0,
      "outputs": []
    },
    {
      "cell_type": "code",
      "metadata": {
        "id": "9ViqESfwHGiI",
        "colab_type": "code",
        "colab": {}
      },
      "source": [
        ""
      ],
      "execution_count": 0,
      "outputs": []
    },
    {
      "cell_type": "code",
      "metadata": {
        "id": "YJcgcmEPHGe6",
        "colab_type": "code",
        "colab": {}
      },
      "source": [
        ""
      ],
      "execution_count": 0,
      "outputs": []
    },
    {
      "cell_type": "code",
      "metadata": {
        "id": "x0PuX7UYRCEh",
        "colab_type": "code",
        "colab": {}
      },
      "source": [
        ""
      ],
      "execution_count": 0,
      "outputs": []
    },
    {
      "cell_type": "code",
      "metadata": {
        "id": "k7e0WltiHGb6",
        "colab_type": "code",
        "colab": {}
      },
      "source": [
        "def ploting_cat_fet(df_train, cols, vis_row=5, vis_col=2):\n",
        "    \n",
        "    grid = gridspec.GridSpec(vis_row,vis_col) # The grid of chart\n",
        "    plt.figure(figsize=(17, 35)) # size of figure\n",
        "\n",
        "    # loop to get column and the count of plots\n",
        "    for n, col in enumerate(df_train[cols]): \n",
        "        tmp = pd.crosstab(df_train[col], df_train['target'], normalize='index') * 100\n",
        "        tmp = tmp.reset_index()\n",
        "        tmp.rename(columns={0:'No',1:'Yes'}, inplace=True)\n",
        "\n",
        "        ax = plt.subplot(grid[n]) # feeding the figure of grid\n",
        "        sns.countplot(x=col, data=df_train, order=list(tmp[col].values) , color='green') \n",
        "        ax.set_ylabel('Count', fontsize=15) # y axis label\n",
        "        ax.set_title(f'{col} Distribution by Target', fontsize=18) # title label\n",
        "        ax.set_xlabel(f'{col} values', fontsize=15) # x axis label\n",
        "\n",
        "        # twinX - to build a second yaxis\n",
        "        gt = ax.twinx()\n",
        "        gt = sns.pointplot(x=col, y='Yes', data=tmp,\n",
        "                           order=list(tmp[col].values),\n",
        "                           color='black', legend=False)\n",
        "        gt.set_ylim(tmp['Yes'].min()-5,tmp['Yes'].max()*1.1)\n",
        "        gt.set_ylabel(\"Target %True(1)\", fontsize=16)\n",
        "        sizes=[] # Get highest values in y\n",
        "        for p in ax.patches: # loop to all objects\n",
        "            height = p.get_height()\n",
        "            sizes.append(height)\n",
        "            ax.text(p.get_x()+p.get_width()/2.,\n",
        "                    height + 3,\n",
        "                    '{:1.2f}%'.format(height/total*100),\n",
        "                    ha=\"center\", fontsize=14) \n",
        "        ax.set_ylim(0, max(sizes) * 1.15) # set y limit based on highest heights\n",
        "\n",
        "\n",
        "    plt.subplots_adjust(hspace = 0.5, wspace=.3)\n",
        "    plt.show()"
      ],
      "execution_count": 0,
      "outputs": []
    },
    {
      "cell_type": "code",
      "metadata": {
        "id": "1Ia8eXlsHGZE",
        "colab_type": "code",
        "colab": {}
      },
      "source": [
        ""
      ],
      "execution_count": 0,
      "outputs": []
    },
    {
      "cell_type": "code",
      "metadata": {
        "id": "3wf4809QHGW2",
        "colab_type": "code",
        "colab": {}
      },
      "source": [
        ""
      ],
      "execution_count": 0,
      "outputs": []
    },
    {
      "cell_type": "code",
      "metadata": {
        "id": "kiNxcjt0HGTH",
        "colab_type": "code",
        "colab": {}
      },
      "source": [
        ""
      ],
      "execution_count": 0,
      "outputs": []
    },
    {
      "cell_type": "code",
      "metadata": {
        "id": "ItIVEfQ6HGPn",
        "colab_type": "code",
        "colab": {}
      },
      "source": [
        ""
      ],
      "execution_count": 0,
      "outputs": []
    },
    {
      "cell_type": "code",
      "metadata": {
        "trusted": true,
        "id": "NBbUKXqfBo2z",
        "colab_type": "code",
        "colab": {}
      },
      "source": [
        "class Cat_Encode:\n",
        "        \n",
        "    ### Encoding categorical variables using category_encoders package. \n",
        "    ### This returns a transformed dataframe.\n",
        "    \n",
        "    def __init__(self,methods,**params):\n",
        "        self.methods = methods\n",
        "        self.params = params\n",
        "        self.method_obj = self.get_method_obj()\n",
        "        \n",
        "    def get_method_obj(self):\n",
        "        if self.methods == 'target_encode':\n",
        "             return ce.target_encoder.TargetEncoder(**self.params)\n",
        "        elif self.methods == 'woe':\n",
        "            return ce.woe.WOEEncoder(**self.params)\n",
        "        elif self.methods == 'ohe':\n",
        "            return ce.one_hot.OneHotEncoder(**self.params)\n",
        "        elif self.methods == 'helmert':\n",
        "            return ce.helmert.HelmertEncoder(**self.params)\n",
        "        elif self.methods == 'james-stein':\n",
        "            return ce.james_stein.JamesSteinEncoder(**self.params)\n",
        "        elif self.methods == 'loo':\n",
        "            return ce.leave_one_out.LeaveOneOutEncoder(**self.params)\n",
        "        elif self.methods == 'm-estimate':\n",
        "            return ce.m_estimate.MEstimateEncoder(**self.params)\n",
        "        elif self.methods == 'hashing':\n",
        "            return ce.hashing.HashingEncoder(**self.params)\n",
        "        elif self.methods == 'cat_boost':\n",
        "            return ce.cat_boost.CatBoostEncoder(**self.params)\n",
        "        elif self.methods == 'binary':\n",
        "            return ce.binary.BinaryEncoder(**self.params)\n",
        "        else:\n",
        "            print(\"Methods can be from : [target_encode,woe,ohe,m-estimate,hashing,cat_boost,binary]\")\n",
        "    \n",
        "    def print_method(self):\n",
        "        print(self.method_obj)\n",
        "        \n",
        "    def return_method_obj(self):\n",
        "        return self.method_obj\n",
        "        \n",
        "    def fit_(self,data,**kwargs):\n",
        "        self.method_fit_ = self.method_obj.fit(data,**kwargs)\n",
        "        return self\n",
        "    \n",
        "    def transform_(self,data):\n",
        "        self.method_transform_ = self.method_obj.transform(data)\n",
        "        return self.method_transform_\n",
        "\n",
        "    def fit_transform_(self,data,**kwargs):\n",
        "        return self.method_obj.fit_transform(data,**kwargs)\n",
        "        "
      ],
      "execution_count": 0,
      "outputs": []
    },
    {
      "cell_type": "code",
      "metadata": {
        "trusted": true,
        "id": "2rdjK0boBo29",
        "colab_type": "code",
        "colab": {}
      },
      "source": [
        ""
      ],
      "execution_count": 0,
      "outputs": []
    },
    {
      "cell_type": "code",
      "metadata": {
        "id": "JTcKwQQjrogF",
        "colab_type": "code",
        "colab": {}
      },
      "source": [
        ""
      ],
      "execution_count": 0,
      "outputs": []
    },
    {
      "cell_type": "code",
      "metadata": {
        "trusted": true,
        "id": "tv7ddaZVBo3G",
        "colab_type": "code",
        "colab": {}
      },
      "source": [
        "class Model_Build:\n",
        "    \n",
        "    def __init__(self,model,cv_type = 'stratified k fold',scoring = None,verbose = 0,cv_params = None,feat_sel = None):\n",
        "        self.model = model\n",
        "        self.cv_type = cv_type\n",
        "        self.scoring = scoring\n",
        "        self.verbose = verbose\n",
        "        self.cv_params  = cv_params\n",
        "        self.feat_sel_func = feat_sel\n",
        "        \n",
        "    def _check_cv_type(self):\n",
        "        assert isinstance(self.cv,int) , 'CV must be of type int'\n",
        "        assert isinstance(self.cv_type,str), 'CV type must be of string and can be : stratified k fold,k fold,repeated k fold,repeated stratified k fold'\n",
        "            \n",
        "    \n",
        "    def get_cv_func(self):\n",
        "        if self.cv_type == 'stratified k fold':\n",
        "            return StratifiedKFold(**self.cv_params)\n",
        "        elif self.cv_type == 'k fold':\n",
        "            return KFold(**self.cv_params)\n",
        "        elif self.cv_type == 'repeated k fold':\n",
        "            return RepeatedKFold(**self.cv_params)\n",
        "        elif self.cv_type == 'repeated stratified k fold':\n",
        "            return RepeatedStratifiedKFold(**self.cv_params)\n",
        "        else:\n",
        "            self._check_cv_type()\n",
        "        \n",
        "    def get_cv_folds(self,X,Y):\n",
        "        \n",
        "        cv_func = self.get_cv_func()\n",
        "        print(cv_func)\n",
        "        train_ind_list = []\n",
        "        test_ind_list = []\n",
        "        for train_ind,test_ind in cv_func.split(X,Y):\n",
        "            train_ind_list.append(train_ind)\n",
        "            test_ind_list.append(test_ind)\n",
        "        \n",
        "        return train_ind_list,test_ind_list\n",
        "    \n",
        "    def cv_feat_process(self,X,cv_feat_func,Y = None,data_class = None):\n",
        "        if data_class == 'train':\n",
        "            return cv_feat_func.fit_transform_(X,y = Y)\n",
        "        elif data_class == 'test':\n",
        "            return cv_feat_func.transform_(X)\n",
        "        \n",
        "    def feat_sel_(self,X,Y= None,data_class = None):\n",
        "        if data_class == 'train':\n",
        "            return self.feat_sel_func.fit_transform_(X,y = Y)\n",
        "        else:\n",
        "            return self.feat_sel_func.transform_(X)\n",
        "    \n",
        "    def cv_fit_(self,X,Y,sample_weight = None,cv_feat_func = None):\n",
        "        train_cv_ind,test_cv_ind = self.get_cv_folds(X,Y)\n",
        "        cv_scores = []\n",
        "        k = 1\n",
        "        for i,j in zip(train_cv_ind,test_cv_ind):\n",
        "            #print('-------- Started for fold : %s -------' % (k))\n",
        "            x_train,x_val,y_train,y_val = X.loc[i,:],X.loc[j,:],Y[i],Y[j]\n",
        "            \n",
        "            #### Calculating sample weights\n",
        "            wts = y_train[y_train == 0].shape[0]/y_train[y_train == 1].shape[0]\n",
        "            samp_wt = y_train.apply( lambda x: wts if x==1 else 1)\n",
        "            \n",
        "            if cv_feat_func!=None: \n",
        "                x_train = self.cv_feat_process(x_train,cv_feat_func,Y = y_train,data_class = 'train')\n",
        "                x_val = self.cv_feat_process(x_val,cv_feat_func,data_class = 'test')\n",
        "            \n",
        "            if self.feat_sel_func != None:\n",
        "                #a1 = x_train[x_train.drop(high_card_feats,axis = 1)<0].sum().reset_index()\n",
        "                #neg_cols = a1[a1[0]!=0]['index'].tolist()\n",
        "                x_train = self.feat_sel_(x_train,Y = y_train,data_class = 'train')\n",
        "                x_val = self.feat_sel_(x_val,data_class = 'test')\n",
        "                \n",
        "                #x_train = pd.concat([pd.DataFrame(x_train_1,index = x_train.index),x_train[neg_cols]],axis = 1)\n",
        "                #x_val = pd.concat([pd.DataFrame(x_val_1,index = x_val.index),x_val[neg_cols]],axis = 1)\n",
        "                \n",
        "            x_train.index = range(x_train.shape[0])\n",
        "            x_val.index = range(x_val.shape[0])\n",
        "            \n",
        "            model_fit = self.model.fit(x_train,y_train,sample_weight = samp_wt) if sample_weight == True else self.model.fit(x_train,y_train)\n",
        "            model_preds = model_fit.predict_proba(x_val)\n",
        "            cv_scores.append(self.scoring(y_val,model_preds[:,1]))\n",
        "            #print('Score : %s' % (cv_scores[k-1]))\n",
        "            k = k+1\n",
        "        \n",
        "        return cv_scores\n",
        "    \n",
        "    def fit_(self,X,Y,sample_weight = None,cv_feat_func = None):\n",
        "        if cv_feat_func!=None : \n",
        "            X = self.cv_feat_process(X,cv_feat_func,Y= Y,data_class = 'train')\n",
        "            \n",
        "        wts = y_train[y_train == 0].shape[0]/y_train[y_train == 1].shape[0]\n",
        "        samp_wt = y_train.apply( lambda x: wts if x==1 else 1)\n",
        "            \n",
        "        self.model_fit = self.model.fit(X,Y,sample_weight = samp_wt) if sample_weight == True else self.model.fit(X,Y)\n",
        "    \n",
        "    def predict_proba(self,X,cv_feat_func = None):\n",
        "        if cv_feat_func!=None : \n",
        "            X = self.cv_feat_process(X,cv_feat_func,data_class = 'train')\n",
        "        return  self.model_fit.predict_proba(X)  \n",
        "    "
      ],
      "execution_count": 0,
      "outputs": []
    },
    {
      "cell_type": "code",
      "metadata": {
        "trusted": true,
        "id": "rxjB8ZHJBo3Q",
        "colab_type": "code",
        "colab": {}
      },
      "source": [
        "class Feat_Preprocess:\n",
        "    def __init__(self,cyc_encode = True,ohe_encode = True):\n",
        "        self.cyc_encode = cyc_encode\n",
        "        self.ohe_encode = ohe_encode\n",
        "        \n",
        "    def cyc(self,col, max_val = None):\n",
        "        for c in col:\n",
        "            if max_val == None:\n",
        "                max_val = self.X[c].max()\n",
        "            self.X[c + '_sin'] = np.sin(2 * np.pi * self.X[c]/max_val)\n",
        "            self.X[c + '_cos'] = np.cos(2 * np.pi * self.X[c]/max_val)\n",
        "    \n",
        "    \n",
        "    def ohe(self):\n",
        "        self.X = pd.get_dummies(self.X,columns = self.cols_to_dummy,drop_first = True)\n",
        "        \n",
        "    def fit_(self,X,cyc_col = None,ohe_cols = None):\n",
        "        self.X = X\n",
        "        \n",
        "        if self.cyc_encode:\n",
        "            self.cyc(cyc_col)\n",
        "        \n",
        "        if self.ohe_encode:\n",
        "            self.cols_to_dummy = ohe_cols\n",
        "            self.ohe()\n",
        "        \n",
        "        return self.X\n",
        "            "
      ],
      "execution_count": 0,
      "outputs": []
    },
    {
      "cell_type": "code",
      "metadata": {
        "id": "JT0kRUloxdlr",
        "colab_type": "code",
        "colab": {}
      },
      "source": [
        ""
      ],
      "execution_count": 0,
      "outputs": []
    },
    {
      "cell_type": "code",
      "metadata": {
        "trusted": true,
        "id": "9dY0KM3SBo3W",
        "colab_type": "code",
        "colab": {}
      },
      "source": [
        "##### Encoding cyclical features\n",
        "cols_to_dummy =[ x for x in  df1[(df1[0]>=2) & (df1[0]<=12)]['index'].values.tolist() if x not in ['day','month'] ]\n",
        "train['flag'] = ['train']*train.shape[0]\n",
        "test['flag'] = ['test']*test.shape[0]\n",
        "total_data = pd.concat([train,test],axis = 0)\n",
        "total_data_1 = Feat_Preprocess(cyc_encode=True,ohe_encode=False).fit_(total_data,cyc_col = ['day','month'])\n",
        "train_1 = total_data_1[total_data_1['flag'] == 'train']\n",
        "test_1 = total_data_1[total_data_1['flag'] == 'test']\n",
        "cols_to_drop = ['id','day','month','target','flag']"
      ],
      "execution_count": 0,
      "outputs": []
    },
    {
      "cell_type": "code",
      "metadata": {
        "id": "yhwofHZigBvQ",
        "colab_type": "code",
        "colab": {}
      },
      "source": [
        ""
      ],
      "execution_count": 0,
      "outputs": []
    },
    {
      "cell_type": "code",
      "metadata": {
        "trusted": true,
        "id": "NC35u_bOBo3c",
        "colab_type": "code",
        "colab": {}
      },
      "source": [
        "x_train,x_test,y_train,y_test = train_test_split(train_1.drop(cols_to_drop,axis = 1),train_1['target'],test_size = 0.3,stratify = train_1['target'])\n",
        "x_train.index = range(x_train.shape[0])\n",
        "x_test.index = range(x_test.shape[0])\n",
        "y_train.index = range(y_train.shape[0])\n",
        "y_test.index = range(y_test.shape[0])"
      ],
      "execution_count": 0,
      "outputs": []
    },
    {
      "cell_type": "code",
      "metadata": {
        "trusted": true,
        "id": "LWBgRXfABo3m",
        "colab_type": "code",
        "colab": {}
      },
      "source": [
        ""
      ],
      "execution_count": 0,
      "outputs": []
    },
    {
      "cell_type": "code",
      "metadata": {
        "trusted": true,
        "id": "SATXZDzPBo3z",
        "colab_type": "code",
        "colab": {}
      },
      "source": [
        "best_loss = float('-inf')\n",
        "obj_call_count = 0\n",
        "cat_feats = train_1.select_dtypes(include = object).columns.tolist()\n",
        "\n",
        "trials = Trials()\n",
        "\n",
        "def get_params(params,int_params):\n",
        "  for x in int_params:\n",
        "    params[x] = int(params[x])\n",
        "  return params\n",
        "\n",
        "tar_encode = Cat_Encode(methods = \"target_encode\", cols=x_train.select_dtypes(include = object).columns.tolist(), min_samples_leaf=100, smoothing=1)\n",
        "\n",
        "global integer_params\n",
        "\n",
        "def objective(params):\n",
        "    \n",
        "    global best_loss,obj_call_count,integer_params,cat_feats\n",
        "\n",
        "    params_new = get_params(params,integer_params) if integer_params != None else params\n",
        "\n",
        "    obj_call_count += 1\n",
        "    \n",
        "    sorted_params = sorted(params.items(), key=lambda z: z[0])\n",
        "    params_str = str.join(' ', ['{}={}'.format(k, v) for k, v in sorted_params])\n",
        "    print('Iteration Number : %s' % (obj_call_count))\n",
        "    print('Params: {}'.format(params_str) )\n",
        "\n",
        "    global model\n",
        "    '''\n",
        "    model = CatBoostClassifier(devices = '0:4',task_type = 'GPU',\n",
        "                         loss_function='Logloss',early_stopping_rounds=50,\n",
        "                         od_type = 'Iter',cat_features=cat_feats,\n",
        "                         verbose= False,**params_new)\n",
        "    '''\n",
        "    \n",
        "\n",
        "    m = Model_Build(model = model,cv_params={'n_splits' : 3,'random_state' : 1993},scoring = roc_auc_score)\n",
        "    cv_scores = m.cv_fit_(train_1.drop(['target'],axis = 1),train_1['target'],sample_weight = True)\n",
        "    mean_cv_score = -1*np.mean(cv_scores)\n",
        "    \n",
        "    if mean_cv_score<best_loss:\n",
        "        best_loss = mean_cv_score\n",
        "        \n",
        "    return{'loss':mean_cv_score, 'status': STATUS_OK }\n",
        "    "
      ],
      "execution_count": 0,
      "outputs": []
    },
    {
      "cell_type": "code",
      "metadata": {
        "trusted": true,
        "id": "6dRw2wvGBo36",
        "colab_type": "code",
        "outputId": "8b6e539b-8a16-4dda-ea03-86ab932b5727",
        "colab": {
          "base_uri": "https://localhost:8080/",
          "height": 1000
        }
      },
      "source": [
        "############### Training data with cat features passed to catboost algorithm\n",
        "\n",
        "search_spaces = {'iterations': hp.choice('iterations',[10,50,100,500,1000]),\n",
        "                 'depth': hp.choice('depth',[3,5,7,9]),\n",
        "                 'learning_rate': hp.uniform('learning_rate',0.01, 0.3),\n",
        "                 'random_strength': hp.loguniform('random_strength',1e-9, 10),\n",
        "                 'bagging_temperature': hp.uniform('bagging_temperature',0.0, 1.0),\n",
        "                 'border_count': hp.uniform('border_count',1, 255),\n",
        "                 'l2_leaf_reg': hp.uniform('l2_leaf_reg',2, 30),\n",
        "                 'scale_pos_weight':hp.uniform('scale_pos_weight',0.01, 1.0)}\n",
        "    \n",
        "integer_params = ['border_count']\n",
        "HYPEROPT_ALGO = tpe.suggest\n",
        "best1 = fmin(fn = objective,space = search_spaces ,algo = HYPEROPT_ALGO,trials= trials,verbose = 2,show_progressbar=False,max_evals=50)"
      ],
      "execution_count": 0,
      "outputs": [
        {
          "output_type": "stream",
          "text": [
            "Iteration Number : 1\n",
            "Params: bagging_temperature=0.7722632583053209 border_count=120 depth=9 iterations=100 l2_leaf_reg=18.632755798782526 learning_rate=0.09597334464753274 random_strength=106.76633916132883 scale_pos_weight=0.8587922884521421\n",
            "StratifiedKFold(n_splits=3, random_state=1993, shuffle=False)\n",
            "Iteration Number : 2\n",
            "Params: bagging_temperature=0.6051753357353193 border_count=30 depth=7 iterations=50 l2_leaf_reg=25.237741242601285 learning_rate=0.1903271270065517 random_strength=367.3922965941629 scale_pos_weight=0.17617079419907272\n",
            "StratifiedKFold(n_splits=3, random_state=1993, shuffle=False)\n",
            "Iteration Number : 3\n",
            "Params: bagging_temperature=0.08623528430077865 border_count=115 depth=9 iterations=100 l2_leaf_reg=13.72774951939661 learning_rate=0.10941017598994623 random_strength=50.170285259275225 scale_pos_weight=0.5177653822813121\n",
            "StratifiedKFold(n_splits=3, random_state=1993, shuffle=False)\n",
            "Iteration Number : 4\n",
            "Params: bagging_temperature=0.40624786850004924 border_count=70 depth=7 iterations=100 l2_leaf_reg=13.37897025289223 learning_rate=0.21005988659355787 random_strength=195.4496289541641 scale_pos_weight=0.5530374375044529\n",
            "StratifiedKFold(n_splits=3, random_state=1993, shuffle=False)\n",
            "Iteration Number : 5\n",
            "Params: bagging_temperature=0.3587944200027261 border_count=112 depth=9 iterations=100 l2_leaf_reg=21.645552035077348 learning_rate=0.18257442749250238 random_strength=583.9601935134436 scale_pos_weight=0.7679378934544617\n",
            "StratifiedKFold(n_splits=3, random_state=1993, shuffle=False)\n",
            "Iteration Number : 6\n",
            "Params: bagging_temperature=0.5996561816113395 border_count=206 depth=9 iterations=1000 l2_leaf_reg=21.816011226644992 learning_rate=0.2752030917867224 random_strength=81.02245718142304 scale_pos_weight=0.6370044272273221\n",
            "StratifiedKFold(n_splits=3, random_state=1993, shuffle=False)\n",
            "Iteration Number : 7\n",
            "Params: bagging_temperature=0.4287648376834652 border_count=105 depth=5 iterations=100 l2_leaf_reg=16.617048117193697 learning_rate=0.1824711547012704 random_strength=190.02051917329752 scale_pos_weight=0.8974106012961468\n",
            "StratifiedKFold(n_splits=3, random_state=1993, shuffle=False)\n",
            "Iteration Number : 8\n",
            "Params: bagging_temperature=0.6782621383558297 border_count=110 depth=7 iterations=500 l2_leaf_reg=21.72394442387622 learning_rate=0.2629649622410652 random_strength=44.941253415448024 scale_pos_weight=0.8037472313576233\n",
            "StratifiedKFold(n_splits=3, random_state=1993, shuffle=False)\n",
            "Iteration Number : 9\n",
            "Params: bagging_temperature=0.9701578588265338 border_count=167 depth=9 iterations=50 l2_leaf_reg=20.62804126453713 learning_rate=0.09873911619981164 random_strength=22.138332914130032 scale_pos_weight=0.3997817741261843\n",
            "StratifiedKFold(n_splits=3, random_state=1993, shuffle=False)\n",
            "Iteration Number : 10\n",
            "Params: bagging_temperature=0.11808308725048922 border_count=182 depth=5 iterations=10 l2_leaf_reg=2.628713887611641 learning_rate=0.10732589184401699 random_strength=1589.744874106969 scale_pos_weight=0.3764697516329007\n",
            "StratifiedKFold(n_splits=3, random_state=1993, shuffle=False)\n",
            "Iteration Number : 11\n",
            "Params: bagging_temperature=0.3297352504553974 border_count=225 depth=3 iterations=500 l2_leaf_reg=29.743465969803452 learning_rate=0.17846274229836157 random_strength=7.71534949254453 scale_pos_weight=0.223438850772929\n",
            "StratifiedKFold(n_splits=3, random_state=1993, shuffle=False)\n",
            "Iteration Number : 12\n",
            "Params: bagging_temperature=0.8387498154058626 border_count=37 depth=9 iterations=10 l2_leaf_reg=2.590503469717024 learning_rate=0.07756348162170432 random_strength=81.49467666222164 scale_pos_weight=0.8914095653229902\n",
            "StratifiedKFold(n_splits=3, random_state=1993, shuffle=False)\n",
            "Iteration Number : 13\n",
            "Params: bagging_temperature=0.40652998322964506 border_count=241 depth=9 iterations=10 l2_leaf_reg=17.415684665146067 learning_rate=0.0502036581300094 random_strength=9686.551286408721 scale_pos_weight=0.2993549539298472\n",
            "StratifiedKFold(n_splits=3, random_state=1993, shuffle=False)\n",
            "Iteration Number : 14\n",
            "Params: bagging_temperature=0.3422773345977671 border_count=127 depth=5 iterations=100 l2_leaf_reg=25.829398909268896 learning_rate=0.15950486150540594 random_strength=873.2212507516483 scale_pos_weight=0.2599295083244202\n",
            "StratifiedKFold(n_splits=3, random_state=1993, shuffle=False)\n",
            "Iteration Number : 15\n",
            "Params: bagging_temperature=0.08569372676180209 border_count=75 depth=5 iterations=10 l2_leaf_reg=24.79407142649773 learning_rate=0.17637985372936768 random_strength=12.357407024692339 scale_pos_weight=0.32246971574942235\n",
            "StratifiedKFold(n_splits=3, random_state=1993, shuffle=False)\n",
            "Iteration Number : 16\n",
            "Params: bagging_temperature=0.18594025480816867 border_count=117 depth=3 iterations=100 l2_leaf_reg=26.406464432394568 learning_rate=0.15500310163093212 random_strength=136.92365558571925 scale_pos_weight=0.9836390816481798\n",
            "StratifiedKFold(n_splits=3, random_state=1993, shuffle=False)\n",
            "Iteration Number : 17\n",
            "Params: bagging_temperature=0.6356006939863376 border_count=231 depth=5 iterations=1000 l2_leaf_reg=5.383310732006095 learning_rate=0.27566003655590393 random_strength=1402.7190262301474 scale_pos_weight=0.34247350553077066\n",
            "StratifiedKFold(n_splits=3, random_state=1993, shuffle=False)\n",
            "Iteration Number : 18\n",
            "Params: bagging_temperature=0.29603966762168044 border_count=80 depth=3 iterations=500 l2_leaf_reg=18.181290363688085 learning_rate=0.2529317534978201 random_strength=15401.585510346558 scale_pos_weight=0.816930550458668\n",
            "StratifiedKFold(n_splits=3, random_state=1993, shuffle=False)\n",
            "Iteration Number : 19\n",
            "Params: bagging_temperature=0.2746263302275427 border_count=174 depth=3 iterations=100 l2_leaf_reg=20.23162770128249 learning_rate=0.13766533191621688 random_strength=4176.848361016121 scale_pos_weight=0.8332827907770389\n",
            "StratifiedKFold(n_splits=3, random_state=1993, shuffle=False)\n",
            "Iteration Number : 20\n",
            "Params: bagging_temperature=0.04472993984192353 border_count=69 depth=5 iterations=50 l2_leaf_reg=6.970101343825133 learning_rate=0.09406960410185433 random_strength=86.8025068018309 scale_pos_weight=0.929401447946707\n",
            "StratifiedKFold(n_splits=3, random_state=1993, shuffle=False)\n",
            "Iteration Number : 21\n",
            "Params: bagging_temperature=0.21773192143601272 border_count=8 depth=3 iterations=500 l2_leaf_reg=29.366731010713533 learning_rate=0.2340911140181527 random_strength=1.6499924440573164 scale_pos_weight=0.029884280399010116\n",
            "StratifiedKFold(n_splits=3, random_state=1993, shuffle=False)\n",
            "Iteration Number : 22\n",
            "Params: bagging_temperature=0.5263410183143169 border_count=141 depth=3 iterations=500 l2_leaf_reg=10.444860650938466 learning_rate=0.299861895844846 random_strength=4.700856979829635 scale_pos_weight=0.10185566800290062\n",
            "StratifiedKFold(n_splits=3, random_state=1993, shuffle=False)\n",
            "Iteration Number : 23\n",
            "Params: bagging_temperature=0.5113329433305901 border_count=155 depth=3 iterations=500 l2_leaf_reg=11.270191913324789 learning_rate=0.2998246443276423 random_strength=1.740639768338917 scale_pos_weight=0.01785230120868095\n",
            "StratifiedKFold(n_splits=3, random_state=1993, shuffle=False)\n",
            "Iteration Number : 24\n",
            "Params: bagging_temperature=0.5399247385490552 border_count=205 depth=3 iterations=500 l2_leaf_reg=9.370146993559247 learning_rate=0.028610338263415247 random_strength=5.011270723413745 scale_pos_weight=0.1355774240922698\n",
            "StratifiedKFold(n_splits=3, random_state=1993, shuffle=False)\n",
            "Iteration Number : 25\n",
            "Params: bagging_temperature=0.48602831596641377 border_count=145 depth=3 iterations=500 l2_leaf_reg=29.933780649666698 learning_rate=0.29641336930712153 random_strength=4.822619918861522 scale_pos_weight=0.12442474892096887\n",
            "StratifiedKFold(n_splits=3, random_state=1993, shuffle=False)\n",
            "Iteration Number : 26\n",
            "Params: bagging_temperature=0.7500821573795855 border_count=212 depth=3 iterations=500 l2_leaf_reg=8.863338778860918 learning_rate=0.2217675168565002 random_strength=5.040978022196285 scale_pos_weight=0.2229982616544576\n",
            "StratifiedKFold(n_splits=3, random_state=1993, shuffle=False)\n",
            "Iteration Number : 27\n",
            "Params: bagging_temperature=0.189783562603768 border_count=251 depth=3 iterations=500 l2_leaf_reg=13.727736280708488 learning_rate=0.1332214962632803 random_strength=11.367011099761273 scale_pos_weight=0.08649094954675572\n",
            "StratifiedKFold(n_splits=3, random_state=1993, shuffle=False)\n",
            "Iteration Number : 28\n",
            "Params: bagging_temperature=0.0030517350645427044 border_count=250 depth=3 iterations=500 l2_leaf_reg=14.453243235500267 learning_rate=0.12509777930945068 random_strength=12.901777524141684 scale_pos_weight=0.42597860905492974\n",
            "StratifiedKFold(n_splits=3, random_state=1993, shuffle=False)\n",
            "Iteration Number : 29\n",
            "Params: bagging_temperature=0.17680165335619497 border_count=252 depth=3 iterations=1000 l2_leaf_reg=14.493755459433046 learning_rate=0.1288266676035064 random_strength=32.45112464489016 scale_pos_weight=0.4438064028429651\n",
            "StratifiedKFold(n_splits=3, random_state=1993, shuffle=False)\n",
            "Iteration Number : 30\n",
            "Params: bagging_temperature=0.01645686156149137 border_count=252 depth=3 iterations=1000 l2_leaf_reg=14.379415977602859 learning_rate=0.0630093190462431 random_strength=24.17142411833486 scale_pos_weight=0.4437023825098826\n",
            "StratifiedKFold(n_splits=3, random_state=1993, shuffle=False)\n",
            "Iteration Number : 31\n",
            "Params: bagging_temperature=0.007231556552225429 border_count=192 depth=7 iterations=1000 l2_leaf_reg=15.911209763281187 learning_rate=0.010989281380417652 random_strength=2.3933487088953047 scale_pos_weight=0.6271199136718657\n",
            "StratifiedKFold(n_splits=3, random_state=1993, shuffle=False)\n",
            "Iteration Number : 32\n",
            "Params: bagging_temperature=0.004860783622323636 border_count=222 depth=3 iterations=1000 l2_leaf_reg=11.70404210662317 learning_rate=0.059625792826194735 random_strength=16.75248213124238 scale_pos_weight=0.7005332511857263\n",
            "StratifiedKFold(n_splits=3, random_state=1993, shuffle=False)\n",
            "Iteration Number : 33\n",
            "Params: bagging_temperature=0.12517588100324914 border_count=226 depth=7 iterations=1000 l2_leaf_reg=11.870687699928197 learning_rate=0.061026800830417935 random_strength=17.43250067569327 scale_pos_weight=0.736481140267675\n",
            "StratifiedKFold(n_splits=3, random_state=1993, shuffle=False)\n",
            "Iteration Number : 34\n",
            "Params: bagging_temperature=0.005187322709740705 border_count=190 depth=3 iterations=1000 l2_leaf_reg=4.577461908346542 learning_rate=0.01488985575699011 random_strength=322.2687581830445 scale_pos_weight=0.6780732849379868\n",
            "StratifiedKFold(n_splits=3, random_state=1993, shuffle=False)\n",
            "Iteration Number : 35\n",
            "Params: bagging_temperature=0.2692003022739463 border_count=214 depth=7 iterations=1000 l2_leaf_reg=8.259664861475951 learning_rate=0.03550683214794151 random_strength=31.296781612527564 scale_pos_weight=0.5504132254628875\n",
            "StratifiedKFold(n_splits=3, random_state=1993, shuffle=False)\n",
            "Iteration Number : 36\n",
            "Params: bagging_temperature=0.9780643378903738 border_count=242 depth=3 iterations=1000 l2_leaf_reg=12.663899048992826 learning_rate=0.07508262796035742 random_strength=2.7003945765443005 scale_pos_weight=0.6123572946028106\n",
            "StratifiedKFold(n_splits=3, random_state=1993, shuffle=False)\n",
            "Iteration Number : 37\n",
            "Params: bagging_temperature=0.07005625337581885 border_count=93 depth=3 iterations=1000 l2_leaf_reg=15.374113195246743 learning_rate=0.04733740431363481 random_strength=373.34556829943614 scale_pos_weight=0.4862998851213953\n",
            "StratifiedKFold(n_splits=3, random_state=1993, shuffle=False)\n",
            "Iteration Number : 38\n",
            "Params: bagging_temperature=0.9124964476662731 border_count=200 depth=9 iterations=50 l2_leaf_reg=19.601867428417663 learning_rate=0.07176282409678086 random_strength=41.46686931089048 scale_pos_weight=0.712156400509431\n",
            "StratifiedKFold(n_splits=3, random_state=1993, shuffle=False)\n",
            "Iteration Number : 39\n",
            "Params: bagging_temperature=0.14016157859709444 border_count=161 depth=7 iterations=1000 l2_leaf_reg=7.0527645001045 learning_rate=0.02471790564490741 random_strength=1.183093682408299 scale_pos_weight=0.4911411305552902\n",
            "StratifiedKFold(n_splits=3, random_state=1993, shuffle=False)\n",
            "Iteration Number : 40\n",
            "Params: bagging_temperature=0.45286229999363664 border_count=51 depth=7 iterations=1000 l2_leaf_reg=4.656283424094534 learning_rate=0.02625350739956593 random_strength=3294.4358111877423 scale_pos_weight=0.490677963469663\n",
            "StratifiedKFold(n_splits=3, random_state=1993, shuffle=False)\n",
            "Iteration Number : 41\n",
            "Params: bagging_temperature=0.13398315700102392 border_count=6 depth=7 iterations=50 l2_leaf_reg=6.360995441057696 learning_rate=0.09174522794358478 random_strength=1.0801473385077136 scale_pos_weight=0.5815957402037648\n",
            "StratifiedKFold(n_splits=3, random_state=1993, shuffle=False)\n",
            "Iteration Number : 42\n",
            "Params: bagging_temperature=0.23218477041612878 border_count=149 depth=7 iterations=1000 l2_leaf_reg=3.317099887527233 learning_rate=0.014997971835663345 random_strength=1.2000923771931864 scale_pos_weight=0.44682172533283177\n",
            "StratifiedKFold(n_splits=3, random_state=1993, shuffle=False)\n",
            "Iteration Number : 43\n",
            "Params: bagging_temperature=0.3594029227541732 border_count=161 depth=7 iterations=1000 l2_leaf_reg=23.268720617457024 learning_rate=0.10874807680244036 random_strength=63.64449906072728 scale_pos_weight=0.5311270335818621\n",
            "StratifiedKFold(n_splits=3, random_state=1993, shuffle=False)\n",
            "Iteration Number : 44\n",
            "Params: bagging_temperature=0.0527369405225635 border_count=127 depth=7 iterations=10 l2_leaf_reg=7.258943597809139 learning_rate=0.0411245713927643 random_strength=230.624268388304 scale_pos_weight=0.38214653340768673\n",
            "StratifiedKFold(n_splits=3, random_state=1993, shuffle=False)\n",
            "Iteration Number : 45\n",
            "Params: bagging_temperature=0.14169163459789735 border_count=136 depth=9 iterations=1000 l2_leaf_reg=9.944306927321353 learning_rate=0.08375275760523473 random_strength=7.179876657276428 scale_pos_weight=0.26844897515739125\n",
            "StratifiedKFold(n_splits=3, random_state=1993, shuffle=False)\n",
            "Iteration Number : 46\n",
            "Params: bagging_temperature=0.38459859789314466 border_count=101 depth=7 iterations=50 l2_leaf_reg=27.638749219704742 learning_rate=0.06286863311022754 random_strength=756.1071173835053 scale_pos_weight=0.7687829455841166\n",
            "StratifiedKFold(n_splits=3, random_state=1993, shuffle=False)\n",
            "Iteration Number : 47\n",
            "Params: bagging_temperature=0.5826197998073007 border_count=58 depth=5 iterations=100 l2_leaf_reg=17.06219734847788 learning_rate=0.02507505819892686 random_strength=2.6865648441544265 scale_pos_weight=0.3501795512853266\n",
            "StratifiedKFold(n_splits=3, random_state=1993, shuffle=False)\n",
            "Iteration Number : 48\n",
            "Params: bagging_temperature=0.6941585689560305 border_count=175 depth=7 iterations=10 l2_leaf_reg=18.887725030281956 learning_rate=0.20305364915915394 random_strength=26.040997570942274 scale_pos_weight=0.18278448959941607\n",
            "StratifiedKFold(n_splits=3, random_state=1993, shuffle=False)\n",
            "Iteration Number : 49\n",
            "Params: bagging_temperature=0.31749432220361784 border_count=24 depth=9 iterations=1000 l2_leaf_reg=7.996157519421968 learning_rate=0.164893400311711 random_strength=122.39595644755408 scale_pos_weight=0.6624766948032121\n",
            "StratifiedKFold(n_splits=3, random_state=1993, shuffle=False)\n",
            "Iteration Number : 50\n",
            "Params: bagging_temperature=0.24634532229259656 border_count=236 depth=5 iterations=1000 l2_leaf_reg=2.119336040533801 learning_rate=0.11709827357874783 random_strength=9.997042276772346 scale_pos_weight=0.5904067563712854\n",
            "StratifiedKFold(n_splits=3, random_state=1993, shuffle=False)\n"
          ],
          "name": "stdout"
        }
      ]
    },
    {
      "cell_type": "code",
      "metadata": {
        "id": "jviLgWTTyOPP",
        "colab_type": "code",
        "colab": {}
      },
      "source": [
        "with open('best1.txt', 'w') as f:\n",
        "    print(best1, file=f)"
      ],
      "execution_count": 0,
      "outputs": []
    },
    {
      "cell_type": "code",
      "metadata": {
        "trusted": true,
        "id": "l3wIA9T7Bo4D",
        "colab_type": "code",
        "outputId": "1b5c61ab-48fb-48a0-b77c-a40bc9f41a45",
        "colab": {
          "base_uri": "https://localhost:8080/",
          "height": 1000
        }
      },
      "source": [
        "search_spaces = {'iterations': hp.choice('iterations',[10,50,100,500,1000]),\n",
        "                 'depth': hp.choice('depth',[3,5,7,9]),\n",
        "                 'learning_rate': hp.uniform('learning_rate',0.01, 0.3),\n",
        "                 'random_strength': hp.loguniform('random_strength',1e-9, 10),\n",
        "                 'bagging_temperature': hp.uniform('bagging_temperature',0.0, 1.0),\n",
        "                 'border_count': hp.uniform('border_count',1, 255),\n",
        "                 'l2_leaf_reg': hp.uniform('l2_leaf_reg',2, 30),\n",
        "                 'scale_pos_weight':hp.uniform('scale_pos_weight',0.01, 1.0)}\n",
        "\n",
        "integer_params = None\n",
        "HYPEROPT_ALGO = tpe.suggest\n",
        "best = fmin(fn = objective,space = search_spaces ,algo = HYPEROPT_ALGO,trials= trials,verbose = 2,show_progressbar=False,max_evals=30)"
      ],
      "execution_count": 0,
      "outputs": [
        {
          "output_type": "stream",
          "text": [
            "Iteration Number : 1\n",
            "Params: bagging_temperature=0.24227724080125612 border_count=232.67559840371328 depth=3 iterations=10 l2_leaf_reg=24.405011452031367 learning_rate=0.15400256964764325 random_strength=1.3240644096484215 scale_pos_weight=0.153462901408725\n",
            "StratifiedKFold(n_splits=3, random_state=1993, shuffle=False)\n",
            "Iteration Number : 2\n",
            "Params: bagging_temperature=0.6532614727601372 border_count=81.54437699460703 depth=3 iterations=100 l2_leaf_reg=25.558403966606463 learning_rate=0.026474977435135827 random_strength=100.15074052021455 scale_pos_weight=0.4585159981931401\n",
            "StratifiedKFold(n_splits=3, random_state=1993, shuffle=False)\n",
            "Iteration Number : 3\n",
            "Params: bagging_temperature=0.8803958462174782 border_count=108.14189028748002 depth=9 iterations=1000 l2_leaf_reg=10.347389361269576 learning_rate=0.22695800454586895 random_strength=4223.660437300071 scale_pos_weight=0.2732953341272228\n",
            "StratifiedKFold(n_splits=3, random_state=1993, shuffle=False)\n",
            "Iteration Number : 4\n",
            "Params: bagging_temperature=0.29088222204976055 border_count=49.999201476813994 depth=7 iterations=100 l2_leaf_reg=15.545972694065648 learning_rate=0.1359140828140131 random_strength=195.36023283716165 scale_pos_weight=0.8312181212094433\n",
            "StratifiedKFold(n_splits=3, random_state=1993, shuffle=False)\n",
            "Iteration Number : 5\n",
            "Params: bagging_temperature=0.588097531446737 border_count=145.8487232481361 depth=5 iterations=500 l2_leaf_reg=11.982692132874032 learning_rate=0.2994575275271919 random_strength=2084.1158478570082 scale_pos_weight=0.43877583626505645\n",
            "StratifiedKFold(n_splits=3, random_state=1993, shuffle=False)\n",
            "Iteration Number : 6\n",
            "Params: bagging_temperature=0.019998707683409944 border_count=123.79759451256736 depth=7 iterations=100 l2_leaf_reg=14.461055482861845 learning_rate=0.27949985735929717 random_strength=62.022245226948364 scale_pos_weight=0.9206276467008484\n",
            "StratifiedKFold(n_splits=3, random_state=1993, shuffle=False)\n",
            "Iteration Number : 7\n",
            "Params: bagging_temperature=0.6212786812137625 border_count=30.82245504081593 depth=5 iterations=100 l2_leaf_reg=7.3174453813281515 learning_rate=0.10496300761103458 random_strength=1502.3162488187006 scale_pos_weight=0.9899347985959086\n",
            "StratifiedKFold(n_splits=3, random_state=1993, shuffle=False)\n",
            "Iteration Number : 8\n",
            "Params: bagging_temperature=0.6885942576230689 border_count=129.1439138616276 depth=3 iterations=500 l2_leaf_reg=11.721929636032907 learning_rate=0.08994841654112197 random_strength=7644.541442933968 scale_pos_weight=0.3248715380623692\n",
            "StratifiedKFold(n_splits=3, random_state=1993, shuffle=False)\n",
            "Iteration Number : 9\n",
            "Params: bagging_temperature=0.7342165434644254 border_count=68.52330776829231 depth=5 iterations=50 l2_leaf_reg=26.677850742395925 learning_rate=0.1949962397966707 random_strength=168.98486090950044 scale_pos_weight=0.9501442493653839\n",
            "StratifiedKFold(n_splits=3, random_state=1993, shuffle=False)\n",
            "Iteration Number : 10\n",
            "Params: bagging_temperature=0.9451502585982848 border_count=253.5126092595145 depth=3 iterations=1000 l2_leaf_reg=11.887474545492514 learning_rate=0.24085216023699346 random_strength=7.580399235064143 scale_pos_weight=0.37569018078222693\n",
            "StratifiedKFold(n_splits=3, random_state=1993, shuffle=False)\n",
            "Iteration Number : 11\n",
            "Params: bagging_temperature=0.12010509651408452 border_count=43.68057363142328 depth=5 iterations=1000 l2_leaf_reg=8.526750952811403 learning_rate=0.15829854453535136 random_strength=2886.243564215206 scale_pos_weight=0.8360064305711198\n",
            "StratifiedKFold(n_splits=3, random_state=1993, shuffle=False)\n",
            "Iteration Number : 12\n",
            "Params: bagging_temperature=0.23872469363875315 border_count=214.87327217577194 depth=3 iterations=1000 l2_leaf_reg=7.189665415747024 learning_rate=0.12178476091139726 random_strength=2076.058863456253 scale_pos_weight=0.7398113790365309\n",
            "StratifiedKFold(n_splits=3, random_state=1993, shuffle=False)\n",
            "Iteration Number : 13\n",
            "Params: bagging_temperature=0.4918298131417378 border_count=249.4152710815846 depth=9 iterations=100 l2_leaf_reg=22.043979698739058 learning_rate=0.0829965217517481 random_strength=1.454209643579109 scale_pos_weight=0.9104469373392725\n",
            "StratifiedKFold(n_splits=3, random_state=1993, shuffle=False)\n",
            "Iteration Number : 14\n",
            "Params: bagging_temperature=0.10114228897343702 border_count=63.867330066943765 depth=7 iterations=10 l2_leaf_reg=24.099303051198792 learning_rate=0.1754984356817722 random_strength=20.630202855934662 scale_pos_weight=0.9785209213463354\n",
            "StratifiedKFold(n_splits=3, random_state=1993, shuffle=False)\n",
            "Iteration Number : 15\n",
            "Params: bagging_temperature=0.23144248334788198 border_count=49.35649562388811 depth=5 iterations=50 l2_leaf_reg=12.282842779469373 learning_rate=0.07723569605171177 random_strength=124.3625587176355 scale_pos_weight=0.6700987182738511\n",
            "StratifiedKFold(n_splits=3, random_state=1993, shuffle=False)\n",
            "Iteration Number : 16\n",
            "Params: bagging_temperature=0.29682090445158404 border_count=213.5979755195876 depth=3 iterations=50 l2_leaf_reg=20.554528164526893 learning_rate=0.20690842734418255 random_strength=11938.128074988297 scale_pos_weight=0.91378082306246\n",
            "StratifiedKFold(n_splits=3, random_state=1993, shuffle=False)\n",
            "Iteration Number : 17\n",
            "Params: bagging_temperature=0.3192634763679596 border_count=93.39283783854964 depth=5 iterations=10 l2_leaf_reg=21.344131262917585 learning_rate=0.174994379737906 random_strength=12947.81734634721 scale_pos_weight=0.41615083477035236\n",
            "StratifiedKFold(n_splits=3, random_state=1993, shuffle=False)\n",
            "Iteration Number : 18\n",
            "Params: bagging_temperature=0.7114835688264284 border_count=226.21375963026935 depth=7 iterations=1000 l2_leaf_reg=11.920897728875362 learning_rate=0.18356910533726592 random_strength=115.3076786950821 scale_pos_weight=0.5037702896215549\n",
            "StratifiedKFold(n_splits=3, random_state=1993, shuffle=False)\n",
            "Iteration Number : 19\n",
            "Params: bagging_temperature=0.4323382262802228 border_count=186.5220882883962 depth=9 iterations=500 l2_leaf_reg=18.2307826014604 learning_rate=0.02543075980028284 random_strength=2.2798888145188765 scale_pos_weight=0.379724574890815\n",
            "StratifiedKFold(n_splits=3, random_state=1993, shuffle=False)\n",
            "Iteration Number : 20\n",
            "Params: bagging_temperature=0.015130936814858775 border_count=40.68531425134538 depth=7 iterations=100 l2_leaf_reg=19.460351459713664 learning_rate=0.28361786490605956 random_strength=738.3323660710774 scale_pos_weight=0.7482383025579953\n",
            "StratifiedKFold(n_splits=3, random_state=1993, shuffle=False)\n",
            "Iteration Number : 21\n",
            "Params: bagging_temperature=0.39439590415682757 border_count=2.16614577950763 depth=7 iterations=1000 l2_leaf_reg=2.6143977255649578 learning_rate=0.11977533664707267 random_strength=538.6128291940432 scale_pos_weight=0.6522500863574721\n",
            "StratifiedKFold(n_splits=3, random_state=1993, shuffle=False)\n",
            "Iteration Number : 22\n",
            "Params: bagging_temperature=0.37824051803427733 border_count=12.68684903789006 depth=7 iterations=1000 l2_leaf_reg=2.355186574170383 learning_rate=0.0508862218818005 random_strength=572.1365721513416 scale_pos_weight=0.5954739250802602\n",
            "StratifiedKFold(n_splits=3, random_state=1993, shuffle=False)\n",
            "Iteration Number : 23\n",
            "Params: bagging_temperature=0.17725774071825778 border_count=167.71832196724375 depth=3 iterations=1000 l2_leaf_reg=2.329500346896103 learning_rate=0.12129883497729031 random_strength=561.4112088882977 scale_pos_weight=0.5923158919807375\n",
            "StratifiedKFold(n_splits=3, random_state=1993, shuffle=False)\n",
            "Iteration Number : 24\n",
            "Params: bagging_temperature=0.522973398168085 border_count=196.4028870725521 depth=7 iterations=1000 l2_leaf_reg=5.323486705939677 learning_rate=0.12576312876774412 random_strength=29.67676734175453 scale_pos_weight=0.7006341346515765\n",
            "StratifiedKFold(n_splits=3, random_state=1993, shuffle=False)\n",
            "Iteration Number : 25\n",
            "Params: bagging_temperature=0.39684717551622395 border_count=1.0206552397648634 depth=3 iterations=1000 l2_leaf_reg=4.63040029015771 learning_rate=0.04326964947461959 random_strength=325.488212356085 scale_pos_weight=0.7980015309624893\n",
            "StratifiedKFold(n_splits=3, random_state=1993, shuffle=False)\n",
            "Iteration Number : 26\n",
            "Params: bagging_temperature=0.504766914893749 border_count=164.81354532098646 depth=9 iterations=1000 l2_leaf_reg=4.702061164887919 learning_rate=0.06178584629340764 random_strength=1032.3748567574328 scale_pos_weight=0.6157574665236122\n",
            "StratifiedKFold(n_splits=3, random_state=1993, shuffle=False)\n",
            "Iteration Number : 27\n",
            "Params: bagging_temperature=0.1427207468980784 border_count=187.342464320536 depth=7 iterations=1000 l2_leaf_reg=29.08895662010336 learning_rate=0.1425854255764858 random_strength=6214.9965111197935 scale_pos_weight=0.5341494739202373\n",
            "StratifiedKFold(n_splits=3, random_state=1993, shuffle=False)\n",
            "Iteration Number : 28\n",
            "Params: bagging_temperature=0.7895928715718299 border_count=158.07172465315324 depth=3 iterations=1000 l2_leaf_reg=7.062445669541192 learning_rate=0.1069785082977481 random_strength=309.68239463824875 scale_pos_weight=0.019076838367949045\n",
            "StratifiedKFold(n_splits=3, random_state=1993, shuffle=False)\n",
            "Iteration Number : 29\n",
            "Params: bagging_temperature=0.21788011870353372 border_count=235.21583302257113 depth=3 iterations=10 l2_leaf_reg=2.8251476818831476 learning_rate=0.10719642358768197 random_strength=17307.14369490485 scale_pos_weight=0.7322926052948956\n",
            "StratifiedKFold(n_splits=3, random_state=1993, shuffle=False)\n",
            "Iteration Number : 30\n",
            "Params: bagging_temperature=0.07104238022368012 border_count=16.715537076075236 depth=7 iterations=1000 l2_leaf_reg=8.912779514462475 learning_rate=0.15957901847713235 random_strength=2419.4004780742757 scale_pos_weight=0.17449455682007792\n",
            "StratifiedKFold(n_splits=3, random_state=1993, shuffle=False)\n"
          ],
          "name": "stdout"
        }
      ]
    },
    {
      "cell_type": "code",
      "metadata": {
        "trusted": true,
        "id": "0_AwHBjWBo4N",
        "colab_type": "code",
        "colab": {}
      },
      "source": [
        ""
      ],
      "execution_count": 0,
      "outputs": []
    },
    {
      "cell_type": "code",
      "metadata": {
        "trusted": true,
        "id": "DEllUKwdBo4a",
        "colab_type": "code",
        "colab": {}
      },
      "source": [
        ""
      ],
      "execution_count": 0,
      "outputs": []
    },
    {
      "cell_type": "code",
      "metadata": {
        "trusted": true,
        "id": "zHA8Fd4aBo4i",
        "colab_type": "code",
        "colab": {}
      },
      "source": [
        ""
      ],
      "execution_count": 0,
      "outputs": []
    },
    {
      "cell_type": "code",
      "metadata": {
        "trusted": true,
        "id": "h7K6bvVdBo4o",
        "colab_type": "code",
        "colab": {}
      },
      "source": [
        ""
      ],
      "execution_count": 0,
      "outputs": []
    },
    {
      "cell_type": "code",
      "metadata": {
        "trusted": true,
        "id": "txADD7UxBo4t",
        "colab_type": "code",
        "colab": {}
      },
      "source": [
        ""
      ],
      "execution_count": 0,
      "outputs": []
    },
    {
      "cell_type": "code",
      "metadata": {
        "trusted": true,
        "id": "mj8wm0qdBo43",
        "colab_type": "code",
        "colab": {}
      },
      "source": [
        ""
      ],
      "execution_count": 0,
      "outputs": []
    },
    {
      "cell_type": "code",
      "metadata": {
        "id": "-p5mqZ9O0Q3U",
        "colab_type": "code",
        "colab": {}
      },
      "source": [
        ""
      ],
      "execution_count": 0,
      "outputs": []
    },
    {
      "cell_type": "code",
      "metadata": {
        "id": "jfObIpg00Qwp",
        "colab_type": "code",
        "colab": {}
      },
      "source": [
        ""
      ],
      "execution_count": 0,
      "outputs": []
    },
    {
      "cell_type": "code",
      "metadata": {
        "id": "jRJUHcUV0QrA",
        "colab_type": "code",
        "colab": {}
      },
      "source": [
        ""
      ],
      "execution_count": 0,
      "outputs": []
    },
    {
      "cell_type": "code",
      "metadata": {
        "id": "KEHhqJDK0QSd",
        "colab_type": "code",
        "colab": {}
      },
      "source": [
        ""
      ],
      "execution_count": 0,
      "outputs": []
    },
    {
      "cell_type": "code",
      "metadata": {
        "trusted": true,
        "id": "hHZfs8emBo48",
        "colab_type": "code",
        "colab": {}
      },
      "source": [
        "#model = LGBMClassifier(random_state = 1993,boosting_type='gbdt',num_estimators = 100,learning_rate=0.1,num_leaves=50)\n",
        "# optimal params for target encode : min_samples_leaf=100, smoothing=1\n",
        "#model = CatBoostClassifier(random_state = 1993,verbose = 0)\n",
        "#tar_encode = Cat_Encode(methods = \"target_encode\", cols=high_card_feats + cols_to_dummy, min_samples_leaf=100, smoothing=1)\n",
        "#m = Model_Build(model = model,cv_params={'n_splits' : 3,'random_state' : 1993},scoring = roc_auc_score)\n",
        "#m.cv_fit_(x_train,y_train,cv_feat_func=tar_encode,sample_weight = True)"
      ],
      "execution_count": 0,
      "outputs": []
    },
    {
      "cell_type": "code",
      "metadata": {
        "trusted": true,
        "id": "NFFvB-57Bo5D",
        "colab_type": "code",
        "colab": {}
      },
      "source": [
        "'''\n",
        "tar_encode = Cat_Encode(methods = \"target_encode\", cols=high_card_feats+cols_to_dummy, min_samples_leaf=100, smoothing=1)\n",
        "x_train_encode = tar_encode.fit_transform_(x_train,y = y_train)\n",
        "x_test_encode = tar_encode.transform_(x_test)\n",
        "\n",
        "wts = y_train[y_train == 0].shape[0]/y_train[y_train == 1].shape[0]\n",
        "sample_weight = y_train.apply( lambda x: wts if x==1 else 1)\n",
        "            \n",
        "model_fit_1 = CatBoostClassifier(random_state = 1993,verbose= 0).fit(x_train_encode,y_train,sample_weight=sample_weight)\n",
        "model_preds_1 = model_fit_1.predict_proba(x_test_encode)\n",
        "print(roc_auc_score(y_test,model_preds_1[:,1]))\n",
        "'''"
      ],
      "execution_count": 0,
      "outputs": []
    },
    {
      "cell_type": "code",
      "metadata": {
        "trusted": true,
        "id": "Z0KXn2OFBo5J",
        "colab_type": "code",
        "colab": {}
      },
      "source": [
        ""
      ],
      "execution_count": 0,
      "outputs": []
    },
    {
      "cell_type": "code",
      "metadata": {
        "trusted": true,
        "id": "zhE5we7ABo5Q",
        "colab_type": "code",
        "colab": {}
      },
      "source": [
        "#tar_encode = Cat_Encode(methods = \"target_encode\", cols=high_card_feats, min_samples_leaf=100, smoothing=1)\n",
        "#train_encode = tar_encode.fit_transform_(train_2.drop(cols_to_drop,axis = 1),y = train_1['target'])\n",
        "#test_encode = tar_encode.transform_(test_2.drop(cols_to_drop,axis = 1))\n",
        "\n",
        "model_fit_2 = CatBoostClassifier(devices = '0:4',task_type = 'GPU',\n",
        "                         loss_function='Logloss',early_stopping_rounds=50,\n",
        "                         od_type = 'Iter',cat_features=high_card_feats,\n",
        "                         verbose= False,**best).fit(train_2,train_1['target'])\n",
        "model_preds_2 = model_fit_2.predict_proba(test_2)"
      ],
      "execution_count": 0,
      "outputs": []
    },
    {
      "cell_type": "code",
      "metadata": {
        "trusted": true,
        "id": "zG31NSaoBo5X",
        "colab_type": "code",
        "colab": {}
      },
      "source": [
        "output = pd.DataFrame({'id' : test_new['id'],'target' : model_preds_2[:,-1]},index = range(test_new.shape[0]))\n",
        "output.to_csv('Output_CB_Hopt.csv',index = False)"
      ],
      "execution_count": 0,
      "outputs": []
    }
  ]
}